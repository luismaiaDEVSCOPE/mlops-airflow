{
 "cells": [
  {
   "cell_type": "markdown",
   "id": "6a372eb0",
   "metadata": {},
   "source": [
    "# Experiment Tracking with MLflow\n",
    "Practical demonstration of tracking, logging parameters, metrics, and artifacts."
   ]
  },
  {
   "cell_type": "code",
   "execution_count": null,
   "id": "bd16c18e",
   "metadata": {},
   "outputs": [],
   "source": [
    "import mlflow\n",
    "import mlflow.sklearn\n",
    "from sklearn.datasets import load_iris\n",
    "from sklearn.model_selection import train_test_split\n",
    "from sklearn.ensemble import RandomForestClassifier\n",
    "from sklearn.metrics import accuracy_score\n",
    "iris = load_iris()\n",
    "X_train, X_test, y_train, y_test = train_test_split(iris.data, iris.target, test_size=0.2, random_state=42)\n",
    "with mlflow.start_run():\n",
    "    n_estimators = 100\n",
    "    clf = RandomForestClassifier(n_estimators=n_estimators, random_state=42)\n",
    "    clf.fit(X_train, y_train)\n",
    "    preds = clf.predict(X_test)\n",
    "    acc = accuracy_score(y_test, preds)\n",
    "    mlflow.log_param('n_estimators', n_estimators)\n",
    "    mlflow.log_metric('accuracy', acc)\n",
    "    mlflow.sklearn.log_model(clf, 'model')\n",
    "    print(f'Accuracy: {acc:.2f}')"
   ]
  },
  {
   "cell_type": "markdown",
   "id": "4c49f15d",
   "metadata": {},
   "source": [
    "# Model Registry\n",
    "Register the best model in the MLflow Model Registry and promote it between 'Staging' and 'Production' in the UI."
   ]
  },
  {
   "cell_type": "code",
   "execution_count": null,
   "id": "6d1dba26",
   "metadata": {},
   "outputs": [],
   "source": [
    "model_name = 'Iris-RandomForest-Best'\n",
    "with mlflow.start_run():\n",
    "    n_estimators = 100\n",
    "    clf = RandomForestClassifier(n_estimators=n_estimators, random_state=42)\n",
    "    clf.fit(X_train, y_train)\n",
    "    mlflow.sklearn.log_model(clf, 'model', registered_model_name=model_name)\n",
    "    print(f'Model registered in the Model Registry with the name: {model_name}')"
   ]
  }
 ],
 "metadata": {
  "language_info": {
   "name": "python"
  }
 },
 "nbformat": 4,
 "nbformat_minor": 5
}
