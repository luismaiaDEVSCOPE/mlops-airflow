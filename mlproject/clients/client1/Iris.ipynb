{
 "cells": [
  {
   "cell_type": "code",
   "execution_count": null,
   "id": "766dc21a",
   "metadata": {
    "execution": {
     "iopub.execute_input": "2021-10-14T01:05:14.562268Z",
     "iopub.status.busy": "2021-10-14T01:05:14.558716Z",
     "iopub.status.idle": "2021-10-14T01:05:15.885230Z",
     "shell.execute_reply": "2021-10-14T01:05:15.884191Z"
    },
    "papermill": {
     "duration": 1.429391,
     "end_time": "2021-10-14T01:05:15.885432",
     "exception": false,
     "start_time": "2021-10-14T01:05:14.456041",
     "status": "completed"
    },
    "tags": []
   },
   "outputs": [],
   "source": [
    "import pandas as pd\n",
    "from pandas.plotting import scatter_matrix\n",
    "import matplotlib.pyplot as plt\n",
    "from sklearn import model_selection\n",
    "from sklearn.metrics import classification_report\n",
    "from sklearn.metrics import confusion_matrix\n",
    "from sklearn.metrics import accuracy_score"
   ]
  },
  {
   "cell_type": "code",
   "execution_count": null,
   "id": "9ae6f9ca",
   "metadata": {
    "execution": {
     "iopub.execute_input": "2021-10-14T01:05:16.026059Z",
     "iopub.status.busy": "2021-10-14T01:05:16.025044Z",
     "iopub.status.idle": "2021-10-14T01:05:16.084413Z",
     "shell.execute_reply": "2021-10-14T01:05:16.083492Z"
    },
    "papermill": {
     "duration": 0.128278,
     "end_time": "2021-10-14T01:05:16.084733",
     "exception": false,
     "start_time": "2021-10-14T01:05:15.956455",
     "status": "completed"
    },
    "tags": []
   },
   "outputs": [],
   "source": [
    "from sklearn.linear_model import LogisticRegression\n",
    "from sklearn.tree import DecisionTreeClassifier\n",
    "from sklearn.neighbors import KNeighborsClassifier\n",
    "from sklearn.discriminant_analysis import LinearDiscriminantAnalysis\n",
    "from sklearn.naive_bayes import GaussianNB\n",
    "from sklearn.svm import SVC"
   ]
  },
  {
   "cell_type": "markdown",
   "id": "507867c7",
   "metadata": {
    "papermill": {
     "duration": 0.075904,
     "end_time": "2021-10-14T01:05:16.234012",
     "exception": false,
     "start_time": "2021-10-14T01:05:16.158108",
     "status": "completed"
    },
    "tags": []
   },
   "source": [
    "# 1. LOAD DATASET"
   ]
  },
  {
   "cell_type": "code",
   "execution_count": null,
   "id": "005175bd",
   "metadata": {
    "execution": {
     "iopub.execute_input": "2021-10-14T01:05:16.391484Z",
     "iopub.status.busy": "2021-10-14T01:05:16.389930Z",
     "iopub.status.idle": "2021-10-14T01:05:17.848038Z",
     "shell.execute_reply": "2021-10-14T01:05:17.846431Z"
    },
    "papermill": {
     "duration": 1.545191,
     "end_time": "2021-10-14T01:05:17.848329",
     "exception": false,
     "start_time": "2021-10-14T01:05:16.303138",
     "status": "completed"
    },
    "tags": []
   },
   "outputs": [],
   "source": [
    "url = \"https://archive.ics.uci.edu/ml/machine-learning-databases/iris/iris.data\"\n",
    "names = ['sepal-length', 'sepal-width', 'petal-length', 'petal-width', 'class']\n",
    "dataset = pd.read_csv(url, names=names)"
   ]
  },
  {
   "cell_type": "markdown",
   "id": "c6116eac",
   "metadata": {
    "papermill": {
     "duration": 0.062005,
     "end_time": "2021-10-14T01:05:17.973496",
     "exception": false,
     "start_time": "2021-10-14T01:05:17.911491",
     "status": "completed"
    },
    "tags": []
   },
   "source": [
    "# 2. Summarize the Dataset"
   ]
  },
  {
   "cell_type": "code",
   "execution_count": null,
   "id": "ee76a305",
   "metadata": {
    "execution": {
     "iopub.execute_input": "2021-10-14T01:05:18.096384Z",
     "iopub.status.busy": "2021-10-14T01:05:18.095424Z",
     "iopub.status.idle": "2021-10-14T01:05:18.100134Z",
     "shell.execute_reply": "2021-10-14T01:05:18.099324Z"
    },
    "papermill": {
     "duration": 0.070756,
     "end_time": "2021-10-14T01:05:18.100361",
     "exception": false,
     "start_time": "2021-10-14T01:05:18.029605",
     "status": "completed"
    },
    "tags": []
   },
   "outputs": [],
   "source": [
    "#shape\n",
    "print(dataset.shape)"
   ]
  },
  {
   "cell_type": "markdown",
   "id": "af435130",
   "metadata": {
    "papermill": {
     "duration": 0.065552,
     "end_time": "2021-10-14T01:05:18.224305",
     "exception": false,
     "start_time": "2021-10-14T01:05:18.158753",
     "status": "completed"
    },
    "tags": []
   },
   "source": [
    "# 3. Peek The Data"
   ]
  },
  {
   "cell_type": "code",
   "execution_count": null,
   "id": "e19ec5b4",
   "metadata": {
    "execution": {
     "iopub.execute_input": "2021-10-14T01:05:18.357637Z",
     "iopub.status.busy": "2021-10-14T01:05:18.356367Z",
     "iopub.status.idle": "2021-10-14T01:05:18.368055Z",
     "shell.execute_reply": "2021-10-14T01:05:18.366885Z"
    },
    "papermill": {
     "duration": 0.078161,
     "end_time": "2021-10-14T01:05:18.368315",
     "exception": false,
     "start_time": "2021-10-14T01:05:18.290154",
     "status": "completed"
    },
    "tags": []
   },
   "outputs": [],
   "source": [
    "print(dataset.tail())"
   ]
  },
  {
   "cell_type": "markdown",
   "id": "e9c4ca56",
   "metadata": {
    "papermill": {
     "duration": 0.073076,
     "end_time": "2021-10-14T01:05:18.508722",
     "exception": false,
     "start_time": "2021-10-14T01:05:18.435646",
     "status": "completed"
    },
    "tags": []
   },
   "source": [
    "# Statistical Summary"
   ]
  },
  {
   "cell_type": "code",
   "execution_count": null,
   "id": "e35d6190",
   "metadata": {
    "execution": {
     "iopub.execute_input": "2021-10-14T01:05:18.722753Z",
     "iopub.status.busy": "2021-10-14T01:05:18.700595Z",
     "iopub.status.idle": "2021-10-14T01:05:18.732559Z",
     "shell.execute_reply": "2021-10-14T01:05:18.733303Z"
    },
    "papermill": {
     "duration": 0.151337,
     "end_time": "2021-10-14T01:05:18.733644",
     "exception": false,
     "start_time": "2021-10-14T01:05:18.582307",
     "status": "completed"
    },
    "tags": []
   },
   "outputs": [],
   "source": [
    "print(dataset.describe())"
   ]
  },
  {
   "cell_type": "markdown",
   "id": "d3c1bafc",
   "metadata": {
    "papermill": {
     "duration": 0.07749,
     "end_time": "2021-10-14T01:05:18.939709",
     "exception": false,
     "start_time": "2021-10-14T01:05:18.862219",
     "status": "completed"
    },
    "tags": []
   },
   "source": [
    "# Class Distribution\n",
    "Let’s now take a look at the number of instances (rows) that belong to each class. We can view this as an absolute count.\n"
   ]
  },
  {
   "cell_type": "code",
   "execution_count": null,
   "id": "643b60f9",
   "metadata": {
    "execution": {
     "iopub.execute_input": "2021-10-14T01:05:19.174183Z",
     "iopub.status.busy": "2021-10-14T01:05:19.172470Z",
     "iopub.status.idle": "2021-10-14T01:05:19.180483Z",
     "shell.execute_reply": "2021-10-14T01:05:19.179063Z"
    },
    "papermill": {
     "duration": 0.155155,
     "end_time": "2021-10-14T01:05:19.180767",
     "exception": false,
     "start_time": "2021-10-14T01:05:19.025612",
     "status": "completed"
    },
    "tags": []
   },
   "outputs": [],
   "source": [
    "print(dataset.groupby('class').size())"
   ]
  },
  {
   "cell_type": "markdown",
   "id": "8f4afccf",
   "metadata": {
    "papermill": {
     "duration": 0.086469,
     "end_time": "2021-10-14T01:05:19.410093",
     "exception": false,
     "start_time": "2021-10-14T01:05:19.323624",
     "status": "completed"
    },
    "tags": []
   },
   "source": [
    "# 4. Data Visualization\n",
    "We now have a basic idea about the data. We need to extend that with some visualizations.\n",
    "\n",
    "We are going to look at two types of plots:\n",
    "\n",
    "<li>Univariate plots to better understand each attribute.\n",
    "<li>Multivariate plots to better understand the relationships between attributes.\n"
   ]
  },
  {
   "cell_type": "markdown",
   "id": "ac1d42fb",
   "metadata": {
    "papermill": {
     "duration": 0.090207,
     "end_time": "2021-10-14T01:05:19.583504",
     "exception": false,
     "start_time": "2021-10-14T01:05:19.493297",
     "status": "completed"
    },
    "tags": []
   },
   "source": [
    "# 4.1 Univariate Plots"
   ]
  },
  {
   "cell_type": "code",
   "execution_count": null,
   "id": "97d4ab82",
   "metadata": {
    "execution": {
     "iopub.execute_input": "2021-10-14T01:05:19.778298Z",
     "iopub.status.busy": "2021-10-14T01:05:19.776013Z",
     "iopub.status.idle": "2021-10-14T01:05:20.470125Z",
     "shell.execute_reply": "2021-10-14T01:05:20.471683Z"
    },
    "papermill": {
     "duration": 0.811479,
     "end_time": "2021-10-14T01:05:20.472032",
     "exception": false,
     "start_time": "2021-10-14T01:05:19.660553",
     "status": "completed"
    },
    "tags": []
   },
   "outputs": [],
   "source": [
    "dataset.plot(kind='box', subplots=True, layout=(2,2), sharex=False, sharey=False)\n",
    "plt.show()"
   ]
  },
  {
   "cell_type": "code",
   "execution_count": null,
   "id": "098ec878",
   "metadata": {
    "execution": {
     "iopub.execute_input": "2021-10-14T01:05:20.691376Z",
     "iopub.status.busy": "2021-10-14T01:05:20.683830Z",
     "iopub.status.idle": "2021-10-14T01:05:21.436955Z",
     "shell.execute_reply": "2021-10-14T01:05:21.435349Z"
    },
    "papermill": {
     "duration": 0.878353,
     "end_time": "2021-10-14T01:05:21.437211",
     "exception": false,
     "start_time": "2021-10-14T01:05:20.558858",
     "status": "completed"
    },
    "tags": []
   },
   "outputs": [],
   "source": [
    "dataset.hist()\n",
    "plt.show()"
   ]
  },
  {
   "cell_type": "markdown",
   "id": "c0846fed",
   "metadata": {
    "papermill": {
     "duration": 0.084006,
     "end_time": "2021-10-14T01:05:21.655552",
     "exception": false,
     "start_time": "2021-10-14T01:05:21.571546",
     "status": "completed"
    },
    "tags": []
   },
   "source": [
    "# 4.2 Multivariate Plots"
   ]
  },
  {
   "cell_type": "code",
   "execution_count": null,
   "id": "d8510d62",
   "metadata": {
    "execution": {
     "iopub.execute_input": "2021-10-14T01:05:21.865058Z",
     "iopub.status.busy": "2021-10-14T01:05:21.855156Z",
     "iopub.status.idle": "2021-10-14T01:05:23.461973Z",
     "shell.execute_reply": "2021-10-14T01:05:23.464305Z"
    },
    "papermill": {
     "duration": 1.732875,
     "end_time": "2021-10-14T01:05:23.464770",
     "exception": false,
     "start_time": "2021-10-14T01:05:21.731895",
     "status": "completed"
    },
    "tags": []
   },
   "outputs": [],
   "source": [
    "# scatter plot matrix\n",
    "scatter_matrix(dataset)\n",
    "plt.show()"
   ]
  },
  {
   "cell_type": "markdown",
   "id": "85ba1fa6",
   "metadata": {
    "papermill": {
     "duration": 0.076401,
     "end_time": "2021-10-14T01:05:23.694234",
     "exception": false,
     "start_time": "2021-10-14T01:05:23.617833",
     "status": "completed"
    },
    "tags": []
   },
   "source": [
    "# 5. Evaluate Some Algorithms\n",
    "\n",
    "Here is what we are going to cover in this step:\n",
    "\n",
    "<li>Separate out a validation dataset.\n",
    "<li>Set-up the test harness to use 10-fold cross validation.\n",
    "<li>Build 5 different models to predict species from flower measurements\n",
    "<li>Select the best model.\n"
   ]
  },
  {
   "cell_type": "markdown",
   "id": "5719b7d5",
   "metadata": {
    "papermill": {
     "duration": 0.088458,
     "end_time": "2021-10-14T01:05:23.857282",
     "exception": false,
     "start_time": "2021-10-14T01:05:23.768824",
     "status": "completed"
    },
    "tags": []
   },
   "source": [
    "# 5.1 Create a Validation Dataset\n",
    "\n",
    "We need to know that the model we created is any good.\n",
    "\n",
    "Later, we will use statistical methods to estimate the accuracy of the models that we create on unseen data. We also want a more concrete estimate of the accuracy of the best model on unseen data by evaluating it on actual unseen data.\n",
    "\n",
    "That is, we are going to hold back some data that the algorithms will not get to see and we will use this data to get a second and independent idea of how accurate the best model might actually be.\n",
    "\n",
    "We will split the loaded dataset into two, 80% of which we will use to train our models and 20% that we will hold back as a validation dataset."
   ]
  },
  {
   "cell_type": "code",
   "execution_count": null,
   "id": "241872d2",
   "metadata": {
    "execution": {
     "iopub.execute_input": "2021-10-14T01:05:24.097214Z",
     "iopub.status.busy": "2021-10-14T01:05:24.096567Z",
     "iopub.status.idle": "2021-10-14T01:05:24.099312Z",
     "shell.execute_reply": "2021-10-14T01:05:24.100027Z"
    },
    "papermill": {
     "duration": 0.080317,
     "end_time": "2021-10-14T01:05:24.100203",
     "exception": false,
     "start_time": "2021-10-14T01:05:24.019886",
     "status": "completed"
    },
    "tags": []
   },
   "outputs": [],
   "source": [
    "array = dataset.values\n",
    "X = array[:, 0:4]\n",
    "Y = array[:, 4]\n",
    "validation_size = 0.20\n",
    "seed = 7\n",
    "X_train, X_validation, Y_train, Y_validation = model_selection.train_test_split(X, Y, test_size=validation_size, random_state=seed)"
   ]
  },
  {
   "cell_type": "markdown",
   "id": "a4f860db",
   "metadata": {
    "papermill": {
     "duration": 0.077498,
     "end_time": "2021-10-14T01:05:24.253597",
     "exception": false,
     "start_time": "2021-10-14T01:05:24.176099",
     "status": "completed"
    },
    "tags": []
   },
   "source": [
    "We now have training data in the X_train and Y_train for preparing models and a X_validation and Y_validation sets that we can use later."
   ]
  },
  {
   "cell_type": "markdown",
   "id": "0c2ce78b",
   "metadata": {
    "papermill": {
     "duration": 0.062114,
     "end_time": "2021-10-14T01:05:24.386485",
     "exception": false,
     "start_time": "2021-10-14T01:05:24.324371",
     "status": "completed"
    },
    "tags": []
   },
   "source": [
    "# 5.2 Test Harness\n",
    "\n",
    "We will use 10-fold cross validation to estimate accuracy.\n",
    "\n",
    "This will split our dataset into 10 parts, train on 9 and test on 1 and repeat for all combinations of train-test splits."
   ]
  },
  {
   "cell_type": "code",
   "execution_count": null,
   "id": "b013f246",
   "metadata": {
    "execution": {
     "iopub.execute_input": "2021-10-14T01:05:24.528449Z",
     "iopub.status.busy": "2021-10-14T01:05:24.527568Z",
     "iopub.status.idle": "2021-10-14T01:05:24.531301Z",
     "shell.execute_reply": "2021-10-14T01:05:24.530494Z"
    },
    "papermill": {
     "duration": 0.075652,
     "end_time": "2021-10-14T01:05:24.531470",
     "exception": false,
     "start_time": "2021-10-14T01:05:24.455818",
     "status": "completed"
    },
    "tags": []
   },
   "outputs": [],
   "source": [
    "seed = 7\n",
    "scoring = 'accuracy'"
   ]
  },
  {
   "cell_type": "markdown",
   "id": "8a557992",
   "metadata": {
    "papermill": {
     "duration": 0.091158,
     "end_time": "2021-10-14T01:05:24.701755",
     "exception": false,
     "start_time": "2021-10-14T01:05:24.610597",
     "status": "completed"
    },
    "tags": []
   },
   "source": [
    "We are using the metric of ‘accuracy‘ to evaluate models. This is a ratio of the number of correctly predicted instances in divided by the total number of instances in the dataset multiplied by 100 to give a percentage (e.g. 95% accurate). We will be using the scoring variable when we run build and evaluate each model next."
   ]
  },
  {
   "cell_type": "markdown",
   "id": "8c67ec5b",
   "metadata": {
    "papermill": {
     "duration": 0.069589,
     "end_time": "2021-10-14T01:05:24.847459",
     "exception": false,
     "start_time": "2021-10-14T01:05:24.777870",
     "status": "completed"
    },
    "tags": []
   },
   "source": [
    "# 5.3 Build Models\n",
    "\n",
    "We don’t know which algorithms would be good on this problem or what configurations to use. We get an idea from the plots that some of the classes are partially linearly separable in some dimensions, so we are expecting generally good results.\n",
    "\n",
    "Let’s evaluate 6 different algorithms:\n",
    "\n",
    "<li>Logistic Regression (LR)\n",
    "<li>Linear Discriminant Analysis (LDA)\n",
    "<li>K-Nearest Neighbors (KNN).\n",
    "<li>Classification and Regression Trees (CART).\n",
    "<li>Gaussian Naive Bayes (NB).\n",
    "<li>Support Vector Machines (SVM).\n",
    "    \n",
    "This is a good mixture of simple linear (LR and LDA), nonlinear (KNN, CART, NB and SVM) algorithms. We reset the random number seed before each run to ensure that the evaluation of each algorithm is performed using exactly the same data splits. It ensures the results are directly comparable.\n",
    "\n",
    "Let’s build and evaluate our five models:"
   ]
  },
  {
   "cell_type": "code",
   "execution_count": null,
   "id": "fdba4b3d",
   "metadata": {
    "execution": {
     "iopub.execute_input": "2021-10-14T01:05:25.054280Z",
     "iopub.status.busy": "2021-10-14T01:05:25.052654Z",
     "iopub.status.idle": "2021-10-14T01:05:25.318793Z",
     "shell.execute_reply": "2021-10-14T01:05:25.316608Z"
    },
    "papermill": {
     "duration": 0.374039,
     "end_time": "2021-10-14T01:05:25.319135",
     "exception": true,
     "start_time": "2021-10-14T01:05:24.945096",
     "status": "failed"
    },
    "tags": []
   },
   "outputs": [],
   "source": [
    "models = []\n",
    "models.append(('LR', LogisticRegression()))\n",
    "models.append(('LDA', LinearDiscriminantAnalysis()))\n",
    "models.append(('KNN', KNeighborsClassifier()))\n",
    "models.append(('CART', DecisionTreeClassifier()))\n",
    "models.append(('NB', GaussianNB()))\n",
    "models.append(('SVM', SVC()))\n",
    "# print(models)\n",
    "# evaluate each model in turn\n",
    "results = []\n",
    "names = []\n",
    "for name, model in models:\n",
    "    kfold = model_selection.KFold(n_splits=10, random_state=seed,shuffle=True)\n",
    "    cv_results = model_selection.cross_val_score(model, X_train, Y_train, cv=kfold, scoring=scoring)\n",
    "    results.append(cv_results)\n",
    "    names.append(name)\n",
    "    msg = \"%s: %f (%f)\" % (name, cv_results.mean(), cv_results.std())\n",
    "    print(msg)"
   ]
  },
  {
   "cell_type": "markdown",
   "id": "b0e52139",
   "metadata": {
    "papermill": {
     "duration": null,
     "end_time": null,
     "exception": null,
     "start_time": null,
     "status": "pending"
    },
    "tags": []
   },
   "source": [
    "We can see that it looks like KNN has the largest estimated accuracy score.\n",
    "\n",
    "We can also create a plot of the model evaluation results and compare the spread and the mean accuracy of each model. There is a population of accuracy measures for each algorithm because each algorithm was evaluated 10 times (10 fold cross validation)."
   ]
  },
  {
   "cell_type": "code",
   "execution_count": null,
   "id": "38479be2",
   "metadata": {
    "papermill": {
     "duration": null,
     "end_time": null,
     "exception": null,
     "start_time": null,
     "status": "pending"
    },
    "tags": []
   },
   "outputs": [],
   "source": [
    "# Compare Algos\n",
    "fig = plt.figure()\n",
    "fig.suptitle('Algorthm Comparison')\n",
    "ax = fig.add_subplot(111)\n",
    "plt.boxplot(results)\n",
    "ax.set_xticklabels(names)\n",
    "plt.show()"
   ]
  },
  {
   "cell_type": "markdown",
   "id": "fe984d27",
   "metadata": {
    "papermill": {
     "duration": null,
     "end_time": null,
     "exception": null,
     "start_time": null,
     "status": "pending"
    },
    "tags": []
   },
   "source": [
    "# 6. Make Predictions\n",
    "The KNN algorithm was the most accurate model that we tested. Now we want to get an idea of the accuracy of the model on our validation set.\n",
    "\n",
    "This will give us an independent final check on the accuracy of the best model. It is valuable to keep a validation set just in case you made a slip during training, such as overfitting to the training set or a data leak. Both will result in an overly optimistic result.\n",
    "\n",
    "We can run the KNN model directly on the validation set and summarize the results as a final accuracy score, a confusion matrix and a classification report."
   ]
  },
  {
   "cell_type": "code",
   "execution_count": null,
   "id": "e39e56ba",
   "metadata": {
    "papermill": {
     "duration": null,
     "end_time": null,
     "exception": null,
     "start_time": null,
     "status": "pending"
    },
    "tags": []
   },
   "outputs": [],
   "source": [
    "knn = KNeighborsClassifier()\n",
    "knn.fit(X_train, Y_train)\n",
    "predictions = knn.predict(X_validation)\n",
    "print(accuracy_score(Y_validation, predictions))\n",
    "print(\"\\t=============================================\\n\")\n",
    "print(confusion_matrix(Y_validation, predictions))\n",
    "print(\"\\t=============================================\\n\")\n",
    "print(classification_report(Y_validation, predictions))"
   ]
  },
  {
   "cell_type": "markdown",
   "id": "8fa77362",
   "metadata": {
    "papermill": {
     "duration": null,
     "end_time": null,
     "exception": null,
     "start_time": null,
     "status": "pending"
    },
    "tags": []
   },
   "source": [
    "We can see that the accuracy is 0.9 or 90%. The confusion matrix provides an indication of the three errors made. Finally, the classification report provides a breakdown of each class by precision, recall, f1-score and support showing excellent results (granted the validation dataset was small).\n",
    "\n"
   ]
  },
  {
   "cell_type": "markdown",
   "id": "0c523ffb",
   "metadata": {
    "papermill": {
     "duration": null,
     "end_time": null,
     "exception": null,
     "start_time": null,
     "status": "pending"
    },
    "tags": []
   },
   "source": [
    "# Another Aproach to do so"
   ]
  },
  {
   "cell_type": "code",
   "execution_count": null,
   "id": "64c76a9b",
   "metadata": {
    "papermill": {
     "duration": null,
     "end_time": null,
     "exception": null,
     "start_time": null,
     "status": "pending"
    },
    "tags": []
   },
   "outputs": [],
   "source": [
    "from sklearn.datasets import load_iris\n",
    "iris = load_iris()\n",
    "print(iris.feature_names)\n",
    "print(iris.target)\n",
    "print(iris.target_names)\n",
    "print(iris.target.shape)"
   ]
  },
  {
   "cell_type": "code",
   "execution_count": null,
   "id": "349b77f2",
   "metadata": {
    "papermill": {
     "duration": null,
     "end_time": null,
     "exception": null,
     "start_time": null,
     "status": "pending"
    },
    "tags": []
   },
   "outputs": [],
   "source": [
    "from sklearn.neighbors import KNeighborsClassifier"
   ]
  },
  {
   "cell_type": "code",
   "execution_count": null,
   "id": "eba14da1",
   "metadata": {
    "papermill": {
     "duration": null,
     "end_time": null,
     "exception": null,
     "start_time": null,
     "status": "pending"
    },
    "tags": []
   },
   "outputs": [],
   "source": [
    "knn = KNeighborsClassifier(n_neighbors=5)"
   ]
  },
  {
   "cell_type": "code",
   "execution_count": null,
   "id": "ea8dcc4b",
   "metadata": {
    "papermill": {
     "duration": null,
     "end_time": null,
     "exception": null,
     "start_time": null,
     "status": "pending"
    },
    "tags": []
   },
   "outputs": [],
   "source": [
    "X = iris.data\n",
    "y = iris.target"
   ]
  },
  {
   "cell_type": "code",
   "execution_count": null,
   "id": "7cb5685f",
   "metadata": {
    "papermill": {
     "duration": null,
     "end_time": null,
     "exception": null,
     "start_time": null,
     "status": "pending"
    },
    "tags": []
   },
   "outputs": [],
   "source": [
    "knn.fit(X, y)"
   ]
  },
  {
   "cell_type": "code",
   "execution_count": null,
   "id": "66ee58f1",
   "metadata": {
    "papermill": {
     "duration": null,
     "end_time": null,
     "exception": null,
     "start_time": null,
     "status": "pending"
    },
    "tags": []
   },
   "outputs": [],
   "source": [
    "knn.predict(iris.data)"
   ]
  },
  {
   "cell_type": "markdown",
   "id": "93b54787",
   "metadata": {
    "papermill": {
     "duration": null,
     "end_time": null,
     "exception": null,
     "start_time": null,
     "status": "pending"
    },
    "tags": []
   },
   "source": [
    "# Using Different Model"
   ]
  },
  {
   "cell_type": "code",
   "execution_count": null,
   "id": "b866a0a9",
   "metadata": {
    "papermill": {
     "duration": null,
     "end_time": null,
     "exception": null,
     "start_time": null,
     "status": "pending"
    },
    "tags": []
   },
   "outputs": [],
   "source": [
    "from sklearn.linear_model import LogisticRegression"
   ]
  },
  {
   "cell_type": "code",
   "execution_count": null,
   "id": "21f5600d",
   "metadata": {
    "papermill": {
     "duration": null,
     "end_time": null,
     "exception": null,
     "start_time": null,
     "status": "pending"
    },
    "tags": []
   },
   "outputs": [],
   "source": [
    "logrg = LogisticRegression()"
   ]
  },
  {
   "cell_type": "code",
   "execution_count": null,
   "id": "c4ecd96b",
   "metadata": {
    "papermill": {
     "duration": null,
     "end_time": null,
     "exception": null,
     "start_time": null,
     "status": "pending"
    },
    "tags": []
   },
   "outputs": [],
   "source": [
    "logrg.fit(X, y)"
   ]
  },
  {
   "cell_type": "code",
   "execution_count": null,
   "id": "2369da60",
   "metadata": {
    "papermill": {
     "duration": null,
     "end_time": null,
     "exception": null,
     "start_time": null,
     "status": "pending"
    },
    "tags": []
   },
   "outputs": [],
   "source": [
    "logrg.predict(iris.data)"
   ]
  },
  {
   "cell_type": "markdown",
   "id": "cf216ca6",
   "metadata": {
    "papermill": {
     "duration": null,
     "end_time": null,
     "exception": null,
     "start_time": null,
     "status": "pending"
    },
    "tags": []
   },
   "source": [
    "# How to Choose the best Model\n",
    "We will use classication accuracy method\n",
    "\n",
    "# 1. Train and Test on the same dataset "
   ]
  },
  {
   "cell_type": "code",
   "execution_count": null,
   "id": "df73d33b",
   "metadata": {
    "papermill": {
     "duration": null,
     "end_time": null,
     "exception": null,
     "start_time": null,
     "status": "pending"
    },
    "tags": []
   },
   "outputs": [],
   "source": [
    "from sklearn import metrics\n",
    "print(metrics.accuracy_score(y, knn.predict(X)))\n",
    "print(metrics.accuracy_score(y, logrg.predict(X)))"
   ]
  },
  {
   "cell_type": "markdown",
   "id": "8323e508",
   "metadata": {
    "papermill": {
     "duration": null,
     "end_time": null,
     "exception": null,
     "start_time": null,
     "status": "pending"
    },
    "tags": []
   },
   "source": [
    "# 2. Train/Test split"
   ]
  },
  {
   "cell_type": "code",
   "execution_count": null,
   "id": "3996c876",
   "metadata": {
    "papermill": {
     "duration": null,
     "end_time": null,
     "exception": null,
     "start_time": null,
     "status": "pending"
    },
    "tags": []
   },
   "outputs": [],
   "source": [
    "from sklearn.model_selection import train_test_split"
   ]
  },
  {
   "cell_type": "code",
   "execution_count": null,
   "id": "1f642499",
   "metadata": {
    "papermill": {
     "duration": null,
     "end_time": null,
     "exception": null,
     "start_time": null,
     "status": "pending"
    },
    "tags": []
   },
   "outputs": [],
   "source": [
    "print(X.shape)\n",
    "print(y.shape)"
   ]
  },
  {
   "cell_type": "code",
   "execution_count": null,
   "id": "76068482",
   "metadata": {
    "papermill": {
     "duration": null,
     "end_time": null,
     "exception": null,
     "start_time": null,
     "status": "pending"
    },
    "tags": []
   },
   "outputs": [],
   "source": [
    "X_train, X_test, y_train, y_test = train_test_split(X, y, test_size = 0.4, random_state=4)\n",
    "# Random state is given any random integer value so that each time we train and test our model the values remain same."
   ]
  },
  {
   "cell_type": "code",
   "execution_count": null,
   "id": "e23ab4d3",
   "metadata": {
    "papermill": {
     "duration": null,
     "end_time": null,
     "exception": null,
     "start_time": null,
     "status": "pending"
    },
    "tags": []
   },
   "outputs": [],
   "source": [
    "print(X_train.shape)\n",
    "print(X_test.shape)"
   ]
  },
  {
   "cell_type": "code",
   "execution_count": null,
   "id": "ec2e2f5f",
   "metadata": {
    "papermill": {
     "duration": null,
     "end_time": null,
     "exception": null,
     "start_time": null,
     "status": "pending"
    },
    "tags": []
   },
   "outputs": [],
   "source": [
    "print(y_train.shape)\n",
    "print(y_test.shape)"
   ]
  },
  {
   "cell_type": "markdown",
   "id": "3d9bb6e2",
   "metadata": {
    "papermill": {
     "duration": null,
     "end_time": null,
     "exception": null,
     "start_time": null,
     "status": "pending"
    },
    "tags": []
   },
   "source": [
    "# Using K-Neighbours Classifier"
   ]
  },
  {
   "cell_type": "code",
   "execution_count": null,
   "id": "97604e07",
   "metadata": {
    "papermill": {
     "duration": null,
     "end_time": null,
     "exception": null,
     "start_time": null,
     "status": "pending"
    },
    "tags": []
   },
   "outputs": [],
   "source": [
    "knn = KNeighborsClassifier(n_neighbors=5)\n",
    "knn.fit(X_train, y_train)"
   ]
  },
  {
   "cell_type": "code",
   "execution_count": null,
   "id": "6fbe98ef",
   "metadata": {
    "papermill": {
     "duration": null,
     "end_time": null,
     "exception": null,
     "start_time": null,
     "status": "pending"
    },
    "tags": []
   },
   "outputs": [],
   "source": [
    "y_predict = knn.predict(X_test)\n",
    "print(y_predict)"
   ]
  },
  {
   "cell_type": "code",
   "execution_count": null,
   "id": "a319be75",
   "metadata": {
    "papermill": {
     "duration": null,
     "end_time": null,
     "exception": null,
     "start_time": null,
     "status": "pending"
    },
    "tags": []
   },
   "outputs": [],
   "source": [
    "print(metrics.accuracy_score(y_test, y_predict))"
   ]
  },
  {
   "cell_type": "markdown",
   "id": "3c30d6f3",
   "metadata": {
    "papermill": {
     "duration": null,
     "end_time": null,
     "exception": null,
     "start_time": null,
     "status": "pending"
    },
    "tags": []
   },
   "source": [
    "# Using Logistic Regression"
   ]
  },
  {
   "cell_type": "code",
   "execution_count": null,
   "id": "2052e5bb",
   "metadata": {
    "papermill": {
     "duration": null,
     "end_time": null,
     "exception": null,
     "start_time": null,
     "status": "pending"
    },
    "tags": []
   },
   "outputs": [],
   "source": [
    "logrg = LogisticRegression()\n",
    "logrg.fit(X_train, y_train)"
   ]
  },
  {
   "cell_type": "code",
   "execution_count": null,
   "id": "05cd1ed9",
   "metadata": {
    "papermill": {
     "duration": null,
     "end_time": null,
     "exception": null,
     "start_time": null,
     "status": "pending"
    },
    "tags": []
   },
   "outputs": [],
   "source": [
    "y_predict = logrg.predict(X_test)\n",
    "print(y_predict)"
   ]
  },
  {
   "cell_type": "code",
   "execution_count": null,
   "id": "8e7fb675",
   "metadata": {
    "papermill": {
     "duration": null,
     "end_time": null,
     "exception": null,
     "start_time": null,
     "status": "pending"
    },
    "tags": []
   },
   "outputs": [],
   "source": [
    "print(metrics.accuracy_score(y_test, y_predict))\n",
    "print(metrics.confusion_matrix(y_test, y_predict))"
   ]
  },
  {
   "cell_type": "markdown",
   "id": "b999b2d9",
   "metadata": {
    "papermill": {
     "duration": null,
     "end_time": null,
     "exception": null,
     "start_time": null,
     "status": "pending"
    },
    "tags": []
   },
   "source": [
    "# As the accuracy score of KNN model with n_neighbours=5 is more then the Logistic Regression Model.\n",
    "# Hence We will use KNN model for this problem"
   ]
  }
 ],
 "metadata": {
  "kernelspec": {
   "display_name": "Python 3",
   "language": "python",
   "name": "python3"
  },
  "language_info": {
   "codemirror_mode": {
    "name": "ipython",
    "version": 3
   },
   "file_extension": ".py",
   "mimetype": "text/x-python",
   "name": "python",
   "nbconvert_exporter": "python",
   "pygments_lexer": "ipython3",
   "version": "3.8.3"
  },
  "papermill": {
   "default_parameters": {},
   "duration": 13.777291,
   "end_time": "2021-10-14T01:05:25.916578",
   "environment_variables": {},
   "exception": true,
   "input_path": "/opt/airflow/clients/rigor/iris.ipynb",
   "output_path": "/opt/airflow/clients/rigor/iris.ipynb",
   "parameters": {},
   "start_time": "2021-10-14T01:05:12.139287",
   "version": "2.3.3"
  }
 },
 "nbformat": 4,
 "nbformat_minor": 5
}
