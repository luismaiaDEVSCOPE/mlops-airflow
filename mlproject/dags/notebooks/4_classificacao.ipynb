{
 "cells": [
  {
   "cell_type": "code",
   "execution_count": null,
   "id": "12d34235",
   "metadata": {
    "ExecuteTime": {
     "end_time": "2023-03-29T09:01:43.926070Z",
     "start_time": "2023-03-29T09:01:43.922413Z"
    }
   },
   "outputs": [],
   "source": [
    "pipe_model='LGBMClassifier'\n",
    "resampling = 'RandomOverSampler'\n",
    "ciclycle=True\n",
    "feature_selection = False\n",
    "hyperopt = True\n",
    "col_to_keep=None #'columnsA'"
   ]
  },
  {
   "cell_type": "markdown",
   "id": "cea2728f",
   "metadata": {},
   "source": [
    "# Imports"
   ]
  },
  {
   "cell_type": "code",
   "execution_count": null,
   "id": "13151a39",
   "metadata": {
    "ExecuteTime": {
     "end_time": "2023-03-29T09:02:13.226952Z",
     "start_time": "2023-03-29T09:02:13.224273Z"
    }
   },
   "outputs": [],
   "source": [
    "#! pip install imblearn\n",
    "#! pip install lightgbm\n",
    "#! pip install xgboost\n",
    "#! pip install category_encoders\n",
    "#! pip install hyperopt"
   ]
  },
  {
   "cell_type": "code",
   "execution_count": null,
   "id": "bca61178",
   "metadata": {
    "ExecuteTime": {
     "end_time": "2023-03-29T09:02:13.829512Z",
     "start_time": "2023-03-29T09:02:13.228704Z"
    }
   },
   "outputs": [],
   "source": [
    "import pandas as pd\n",
    "import numpy as np\n",
    "from sklearn.pipeline import FeatureUnion\n",
    "from sklearn.base import BaseEstimator, TransformerMixin\n",
    "from sklearn.linear_model import Perceptron\n",
    "from sklearn.model_selection import train_test_split\n",
    "from sklearn.linear_model import SGDClassifier\n",
    "from sklearn.linear_model import PassiveAggressiveClassifier\n",
    "from sklearn.naive_bayes import MultinomialNB\n",
    "from sklearn.metrics import classification_report, confusion_matrix, accuracy_score, recall_score, precision_score, f1_score, roc_auc_score\n",
    "from sklearn.preprocessing import StandardScaler,FunctionTransformer, MinMaxScaler\n",
    "from imblearn.pipeline import Pipeline\n",
    "from imblearn.over_sampling import SMOTE, RandomOverSampler\n",
    "from imblearn.under_sampling import RandomUnderSampler\n",
    "from lightgbm import LGBMClassifier\n",
    "from xgboost import XGBClassifier\n",
    "import category_encoders as ce\n",
    "\n",
    "from sklearn.feature_selection import SelectKBest, chi2, SelectFromModel\n",
    "from sklearn import neighbors\n",
    "from hyperopt import Trials, STATUS_OK, tpe, hp, fmin, STATUS_FAIL, space_eval\n",
    "from sklearn.model_selection import train_test_split, cross_val_score, cross_val_predict\n",
    "from geopy.distance import geodesic"
   ]
  },
  {
   "cell_type": "code",
   "execution_count": null,
   "id": "fd6a731f",
   "metadata": {
    "ExecuteTime": {
     "end_time": "2023-03-29T09:02:13.838871Z",
     "start_time": "2023-03-29T09:02:13.830851Z"
    },
    "code_folding": [
     0
    ]
   },
   "outputs": [],
   "source": [
    "class Reduce_memory_usage(TransformerMixin,BaseEstimator):\n",
    "    def __init__(self):\n",
    "        pass\n",
    "    \n",
    "    def fit(self,X,y=None):\n",
    "        return self\n",
    "    \n",
    "    def transform(self, X, verbose=True):\n",
    "        if not isinstance(X, pd.DataFrame):\n",
    "            X = pd.DataFrame(X)\n",
    "            \n",
    "        numerics = [\"int8\", \"int16\", \"int32\", \"int64\", \"float16\", \"float32\", \"float64\"]\n",
    "        start_mem = X.memory_usage().sum() / 1024 ** 2\n",
    "        for col in X.columns:\n",
    "            col_type = X[col].dtypes\n",
    "            if col_type in numerics:\n",
    "                c_min = X[col].min()\n",
    "                c_max = X[col].max()\n",
    "                if str(col_type)[:3] == \"int\":\n",
    "                    if c_min > np.iinfo(np.int8).min and c_max < np.iinfo(np.int8).max:\n",
    "                        X[col] = X[col].astype(np.int8)\n",
    "                    elif c_min > np.iinfo(np.int16).min and c_max < np.iinfo(np.int16).max:\n",
    "                        X[col] = X[col].astype(np.int16)\n",
    "                    elif c_min > np.iinfo(np.int32).min and c_max < np.iinfo(np.int32).max:\n",
    "                        X[col] = X[col].astype(np.int32)\n",
    "                    elif c_min > np.iinfo(np.int64).min and c_max < np.iinfo(np.int64).max:\n",
    "                        X[col] = X[col].astype(np.int64)\n",
    "                else:\n",
    "                    if (\n",
    "                        c_min > np.finfo(np.float16).min\n",
    "                        and c_max < np.finfo(np.float16).max\n",
    "                    ):\n",
    "                        X[col] = X[col].astype(np.float16)\n",
    "                    elif (\n",
    "                        c_min > np.finfo(np.float32).min\n",
    "                        and c_max < np.finfo(np.float32).max\n",
    "                    ):\n",
    "                        X[col] = X[col].astype(np.float32)\n",
    "                    else:\n",
    "                        X[col] = X[col].astype(np.float64)\n",
    "        end_mem = X.memory_usage().sum() / 1024 ** 2\n",
    "        if verbose:\n",
    "            print(\n",
    "                \"Mem. usage decreased to {:.2f} Mb ({:.1f}% reduction)\".format(\n",
    "                    end_mem, 100 * (start_mem - end_mem) / start_mem\n",
    "                )\n",
    "            )\n",
    "        return X"
   ]
  },
  {
   "cell_type": "markdown",
   "id": "d8cbcd07",
   "metadata": {},
   "source": [
    "# Data"
   ]
  },
  {
   "cell_type": "code",
   "execution_count": null,
   "id": "d8af2ac2",
   "metadata": {
    "ExecuteTime": {
     "end_time": "2023-03-29T09:02:14.675816Z",
     "start_time": "2023-03-29T09:02:13.840030Z"
    }
   },
   "outputs": [],
   "source": [
    "cl_data = pd.read_parquet('/opt/airflow/datasets/absenteeism/classificacao_1st_especialidade_unidadeprov.parquet')\n",
    "cl_data.loc[:, 'Label']=np.where(cl_data.Label=='Realizada',0,1)\n",
    "cl_data.loc[:,'centro_saude']=np.where(cl_data['Tipo Unidade Proveniência'].isin(['U','C']),'1',np.where(cl_data['Tipo Unidade Proveniência'].isna(),'0','2'))\n",
    "\n",
    "utente = pd.read_parquet('/opt/airflow/datasets/absenteeism/modelacao_1_train_utente_basic_coord.parquet')\n",
    "cl_data = utente.merge(cl_data, on='NUM_SEQUENCIAL', how='inner').drop(columns=['NUM_SEQUENCIAL'])\n",
    "cl_data.Sexo=cl_data.Sexo.astype('str') \n",
    "del utente\n",
    "cl_data.head(1)"
   ]
  },
  {
   "cell_type": "code",
   "execution_count": null,
   "id": "f9bf4d58",
   "metadata": {
    "ExecuteTime": {
     "end_time": "2023-03-29T09:02:14.698277Z",
     "start_time": "2023-03-29T09:02:14.677170Z"
    },
    "code_folding": [
     0
    ]
   },
   "outputs": [],
   "source": [
    "conditions = [\n",
    "    (cl_data.Hora >= 8) & (cl_data.Hora < 10),\n",
    "    (cl_data.Hora >= 10) & (cl_data.Hora < 12),\n",
    "    (cl_data.Hora >= 12) & (cl_data.Hora < 14),\n",
    "    (cl_data.Hora >= 14) & (cl_data.Hora < 17),\n",
    "    (cl_data.Hora >= 17) & (cl_data.Hora < 19),\n",
    "    (cl_data.Hora <  8) | (cl_data.Hora >= 19)\n",
    "    ]\n",
    "faixas = [\"manha1\",\"manha2\",\"almoço\",\"tarde1\",\"tarde2\",\"noite\"]\n",
    "cl_data[\"day_part\"] = np.select(conditions, faixas)"
   ]
  },
  {
   "cell_type": "code",
   "execution_count": null,
   "id": "86086710",
   "metadata": {
    "ExecuteTime": {
     "end_time": "2023-03-29T09:02:14.741354Z",
     "start_time": "2023-03-29T09:02:14.699794Z"
    }
   },
   "outputs": [],
   "source": [
    "cl_data.loc[:, 'uni_lat']=np.where(cl_data.Secretariado=='UNIDADE 2',41.106140, np.where(cl_data.Secretariado=='UNIDADE 3 / ESPINHO', 41.002270, None))\n",
    "cl_data.loc[:, 'uni_long']=np.where(cl_data.Secretariado=='UNIDADE 2',-8.591840, np.where(cl_data.Secretariado=='UNIDADE 3 / ESPINHO', -8.642030, None))"
   ]
  },
  {
   "cell_type": "code",
   "execution_count": null,
   "id": "b620f011",
   "metadata": {
    "ExecuteTime": {
     "end_time": "2023-03-29T09:02:14.745871Z",
     "start_time": "2023-03-29T09:02:14.742676Z"
    },
    "code_folding": [
     0
    ]
   },
   "outputs": [],
   "source": [
    "def distance(row): \n",
    "    address1 = (row['utente_lat'], row['utente_lon']) \n",
    "    address2 = (row['uni_lat'], row['uni_long']) \n",
    "    try:\n",
    "        if address2[0]==None:\n",
    "            return np.nan\n",
    "        else:\n",
    "            return (geodesic(address1, address2).kilometers) \n",
    "    except: \n",
    "        return np.nan"
   ]
  },
  {
   "cell_type": "code",
   "execution_count": null,
   "id": "8d289f55",
   "metadata": {
    "ExecuteTime": {
     "end_time": "2023-03-29T09:02:28.143312Z",
     "start_time": "2023-03-29T09:02:14.747045Z"
    }
   },
   "outputs": [],
   "source": [
    "cl_data.loc[:,\"dist_btw_uni\"] = cl_data.apply(lambda row: distance(row), axis = 1 )"
   ]
  },
  {
   "cell_type": "code",
   "execution_count": null,
   "id": "a9fcfa0c",
   "metadata": {
    "ExecuteTime": {
     "end_time": "2023-03-29T09:02:28.150386Z",
     "start_time": "2023-03-29T09:02:28.146367Z"
    }
   },
   "outputs": [],
   "source": [
    "cl_data.loc[:,\"dist_btw\"] = np.where(~cl_data.dist_btw_uni.isna(), cl_data.dist_btw_uni, cl_data.dist_btw)"
   ]
  },
  {
   "cell_type": "code",
   "execution_count": null,
   "id": "d0a752a9",
   "metadata": {
    "ExecuteTime": {
     "end_time": "2023-03-29T09:02:28.272196Z",
     "start_time": "2023-03-29T09:02:28.152003Z"
    },
    "code_folding": [
     1
    ]
   },
   "outputs": [],
   "source": [
    "# 25% feat less importnt\n",
    "weak_feat = ['Especialidade_CIR. GERAL - POS-OPERATORIA','Especialidade_CIRURGIA DERMATOLOGICA',\n",
    " 'Especialidade_CIRURGIA DERMATOLOGICA PEDIATRICA','Especialidade_CIRURGIA GERAL',\n",
    " 'Especialidade_CIRURGIA GERAL-AMBULATORIO UNIDADE3','Especialidade_CIRURGIA PEDIATRICA - ESPINHO',\n",
    " 'Especialidade_CIRURGIA VASCULAR - EXAMES HEMODINAMICOS', 'Especialidade_CONS. MULT. CANCRO COLO-RETAL',\n",
    " 'Especialidade_CONS. MULTIDISC. CABECA E PESCOCO', 'Especialidade_CONS. MULTIDISC. PATOL. HEPATOBILIAR',\n",
    " 'Especialidade_CONS. MULTIDISC. PATOLOGIA GENETICA', 'Especialidade_DERMATOLOGIA - FOTOTERAPIA',\n",
    " 'Especialidade_DERMATOLOGIA - IMAGIOLOGIA CUTANEA', 'Especialidade_DERMATOLOGIA - ONCOLOGIA CUTANEA',\n",
    " 'Especialidade_DERMATOLOGIA - RLEC', 'Especialidade_DERMATOLOGIA-ALERGOLOGIA CUTANEA',\n",
    " 'Especialidade_FOLLOW UP-POS UAVC','Especialidade_FOLLOW UP-POS UAVC CRE',\n",
    " 'Especialidade_NEUROIMUNOLOGIA', 'Especialidade_NEUROLOGIA - AVC',\n",
    " 'Especialidade_NEUROLOGIA - CEFALEIAS', 'Especialidade_NEUROLOGIA - DEMENCIAS',\n",
    " 'Especialidade_NEUROLOGIA - DOENCAS MOVIMENTO', 'Especialidade_NEUROLOGIA - DOENCAS NEUROMUSCULARES',\n",
    " 'Especialidade_NEUROLOGIA - EPILEPSIA', 'Especialidade_NEUROLOGIA - ESPINHO',\n",
    " 'Especialidade_NEUROLOGIA - TOXINAS', 'Especialidade_NEUROPEDIATRIA',\n",
    " 'Especialidade_NEUROPEDIATRIA - ESPINHO', 'Especialidade_OFTALMOLOGIA - GLAUCOMA',\n",
    " 'Especialidade_OFTALMOLOGIA - IMPLANTO-REFRACTIVA', 'Especialidade_OFTALMOLOGIA - INFLAMACAO OCULAR',\n",
    " 'Especialidade_OFTALMOLOGIA - NEUROFTALMOLOGIA', 'Especialidade_OFTALMOLOGIA - OCULOPLASTICA/ORBITA',\n",
    " 'Especialidade_OFTALMOLOGIA - PEDIATRIA/ESTRABISMO', 'Especialidade_OFTALMOLOGIA - RETINA MEDICA',\n",
    " 'Especialidade_OFTALMOLOGIA - RLEC', 'Especialidade_ORTOPEDIA - COLUNA',\n",
    " 'Especialidade_ORTOPEDIA - ESPINHO','Especialidade_ORTOPEDIA - JOELHO',\n",
    " 'Especialidade_ORTOPEDIA - MAO', 'Especialidade_ORTOPEDIA - OMBRO',\n",
    " 'Especialidade_ORTOPEDIA - PE', 'Especialidade_ORTOPEDIA - RLEC',\n",
    " 'Especialidade_OTORRINO', 'Especialidade_OTORRINO - ONCOLOGIA',\n",
    " 'Especialidade_OTORRINO - PEDIATRIA', 'Especialidade_OTORRINO - PRE OPERATORIO',\n",
    " 'Especialidade_OTORRINO - RINOLOGIA', 'Especialidade_OTORRINO - RLEC',\n",
    " 'Especialidade_OTORRINO - VOZ', 'Especialidade_PEDIATRIA - ADOLESCENTES',\n",
    " 'Especialidade_PEDIATRIA - ALERGOLOGIA', 'Especialidade_PEDIATRIA - CDP',\n",
    " 'Especialidade_PEDIATRIA - CONSULTA VIAJANTE', 'Especialidade_PEDIATRIA - DESENVOLVIMENTO',\n",
    " 'Especialidade_PEDIATRIA - DESENVOLVIMENTO PEA', 'Especialidade_PEDIATRIA - DESENVOLVIMENTO/ESPINHO',\n",
    " 'Especialidade_PEDIATRIA - DOENCAS METABOLICAS', 'Especialidade_PEDIATRIA - ENDOCRINOLOGIA/ESPINHO',\n",
    " 'Especialidade_PEDIATRIA - HEMATOLOGIA', 'Especialidade_PEDIATRIA - INFECCIOLOGIA',\n",
    " 'Especialidade_PEDIATRIA - NEFROLOGIA', 'Especialidade_PEDIATRIA - PNEUMOLOGIA',\n",
    " 'Especialidade_PEDIATRIA - REUMATOLOGIA', 'Secretariado_UNIDADE 3 / ESPINHO']\n",
    "\n",
    "weak_feat = [x.replace('Especialidade_','') for x in weak_feat]\n",
    "\n",
    "cl_data.loc[cl_data.Especialidade.isin(weak_feat),'Especialidade'] = cl_data[cl_data.Especialidade.isin(weak_feat)].Especialidade.str.split(' - ',expand=True)[0]+'_agg'"
   ]
  },
  {
   "cell_type": "code",
   "execution_count": null,
   "id": "57483e01",
   "metadata": {
    "ExecuteTime": {
     "end_time": "2023-03-29T09:02:28.349785Z",
     "start_time": "2023-03-29T09:02:28.291516Z"
    },
    "code_folding": [
     0,
     8,
     18
    ]
   },
   "outputs": [],
   "source": [
    "assid_count_dia_semana = pd.pivot_table(\n",
    "    cl_data.groupby(['month_consulta', 'FaixaEtaria', 'dia_consulta', 'Label'], as_index=False)['Sexo'].count(),\n",
    "    values='Sexo', \n",
    "    index=['month_consulta', 'FaixaEtaria', 'dia_consulta'],\n",
    "    columns=['Label'], aggfunc = np.sum)\\\n",
    "        .reset_index()\n",
    "\n",
    "\n",
    "if 0 in assid_count_dia_semana.columns.to_list() :\n",
    "    if 1 in assid_count_dia_semana.columns.to_list() :\n",
    "\n",
    "        assid_count_dia_semana['assid_dia_semana'] = assid_count_dia_semana[0] /\\\n",
    "            (assid_count_dia_semana[1] + \\\n",
    "            assid_count_dia_semana[0])\n",
    "\n",
    "    else :\n",
    "        assid_count_dia_semana['assid_dia_semana'] = 1\n",
    "    \n",
    "else :\n",
    "    assid_count_dia_semana['assid_dia_semana'] = np.nan\n"
   ]
  },
  {
   "cell_type": "code",
   "execution_count": null,
   "id": "157db0a2",
   "metadata": {
    "ExecuteTime": {
     "end_time": "2023-03-29T09:02:28.408156Z",
     "start_time": "2023-03-29T09:02:28.351673Z"
    },
    "code_folding": [
     0,
     8,
     18
    ]
   },
   "outputs": [],
   "source": [
    "assid_count_day_part = pd.pivot_table(\n",
    "    cl_data.groupby(['month_consulta', 'FaixaEtaria', 'day_part', 'Label'], as_index=False)['Sexo'].count(),\n",
    "    values='Sexo', \n",
    "    index=['month_consulta', 'FaixaEtaria', 'day_part'],\n",
    "    columns=['Label'], aggfunc = np.sum)\\\n",
    "        .reset_index()\n",
    "\n",
    "\n",
    "if 0 in assid_count_day_part.columns.to_list() :\n",
    "    if 1 in assid_count_day_part.columns.to_list() :\n",
    "\n",
    "        assid_count_day_part['assid_day_part'] = assid_count_day_part[0] /\\\n",
    "            (assid_count_day_part[1] + \\\n",
    "            assid_count_day_part[0])\n",
    "\n",
    "    else :\n",
    "        assid_count_day_part['assid_day_part'] = 1\n",
    "    \n",
    "else :\n",
    "    assid_count_day_part['assid_day_part'] = np.nan\n"
   ]
  },
  {
   "cell_type": "code",
   "execution_count": null,
   "id": "afca3f7c",
   "metadata": {
    "ExecuteTime": {
     "end_time": "2023-03-29T09:02:28.547589Z",
     "start_time": "2023-03-29T09:02:28.409726Z"
    }
   },
   "outputs": [],
   "source": [
    "cl_data = cl_data.merge(assid_count_dia_semana[['month_consulta', 'FaixaEtaria', 'dia_consulta', 'assid_dia_semana']], \n",
    "                 on=['month_consulta', 'FaixaEtaria', 'dia_consulta'], how='left') \\\n",
    "        .merge(assid_count_day_part[['month_consulta', 'FaixaEtaria', 'day_part', 'assid_day_part']], \n",
    "                 on=['month_consulta', 'FaixaEtaria', 'day_part'], how='left')\n",
    "\n",
    "del assid_count_dia_semana\n",
    "del assid_count_day_part"
   ]
  },
  {
   "cell_type": "markdown",
   "id": "0d8d4984",
   "metadata": {},
   "source": [
    "## Feat Eng"
   ]
  },
  {
   "cell_type": "code",
   "execution_count": null,
   "id": "3e20a5b1",
   "metadata": {
    "ExecuteTime": {
     "end_time": "2023-03-29T09:02:30.000932Z",
     "start_time": "2023-03-29T09:02:28.554730Z"
    }
   },
   "outputs": [],
   "source": [
    "#\"Day_of_week doesn’t have 'x-1' because it goes from 0 to 6. Only variables that start at 1 require the 'x-1'. \"\n",
    "if ciclycle:\n",
    "    cl_data['hora_sin'] = cl_data['Hora'].apply(lambda x: np.sin((x) * (2. * np.pi/31)))\n",
    "    cl_data['hora_cos'] = cl_data['Hora'].apply(lambda x: np.cos((x) * (2. * np.pi/31)))\n",
    "\n",
    "    cl_data[\"day_of_month\"] = cl_data[\"DataConsulta\"].dt.day\n",
    "    cl_data['day_of_month_sin'] = cl_data['day_of_month'].apply(lambda x: np.sin((x-1) * (2. * np.pi/31)))\n",
    "    cl_data['day_of_month_cos'] = cl_data['day_of_month'].apply(lambda x: np.cos((x-1) * (2. * np.pi/31)))\n",
    "\n",
    "    cl_data[\"day_of_week\"] = cl_data[\"DataConsulta\"].dt.dayofweek\n",
    "    cl_data['day_of_week_sin'] = cl_data['day_of_week'].apply(lambda x: np.sin((x) * (2. * np.pi/7)))\n",
    "    cl_data['day_of_week_cos'] = cl_data['day_of_week'].apply(lambda x: np.cos((x) * (2. * np.pi/7)))"
   ]
  },
  {
   "cell_type": "markdown",
   "id": "f8ccde40",
   "metadata": {},
   "source": [
    "## Train/val split"
   ]
  },
  {
   "cell_type": "code",
   "execution_count": null,
   "id": "b9718684",
   "metadata": {
    "ExecuteTime": {
     "end_time": "2023-03-29T09:02:30.148393Z",
     "start_time": "2023-03-29T09:02:30.002570Z"
    }
   },
   "outputs": [],
   "source": [
    "X_train = cl_data[cl_data.DataConsulta<pd.to_datetime('2022-12-01')].drop(columns='Label')\n",
    "y_train = cl_data[cl_data.DataConsulta<pd.to_datetime('2022-12-01')].Label\n",
    "\n",
    "X_val = cl_data[cl_data.DataConsulta>=pd.to_datetime('2022-12-01')].drop(columns='Label')\n",
    "y_val = cl_data[cl_data.DataConsulta>=pd.to_datetime('2022-12-01')].Label"
   ]
  },
  {
   "cell_type": "code",
   "execution_count": null,
   "id": "493cd88c",
   "metadata": {
    "ExecuteTime": {
     "end_time": "2023-03-29T09:02:31.716921Z",
     "start_time": "2023-03-29T09:02:31.671514Z"
    }
   },
   "outputs": [],
   "source": [
    "if ciclycle:\n",
    "    columns_to_drop = ['Nacionalidade','FaixaEtaria', 'DataConsulta', 'month_consulta','Hora','Especialidade', #'GrupoEspecialidade'\n",
    "                      'Unidade Proveniência','Tipo Unidade Proveniência','dist_btw_uni','uni_lat','uni_long','day_part'] #,'dia_consulta']\n",
    "else:\n",
    "    columns_to_drop = ['Nacionalidade','FaixaEtaria', 'DataConsulta', 'month_consulta','Especialidade', #'GrupoEspecialidade'\n",
    "                      'Unidade Proveniência', 'Tipo Unidade Proveniência','dist_btw_uni','uni_lat','uni_long','day_part']\n",
    "\n",
    "if \"day_part\" in X_train.columns.tolist():\n",
    "    columns_to_drop = columns_to_drop + [\"Hora\"]\n",
    "    \n",
    "X_train = X_train.drop(columns=columns_to_drop)\n",
    "X_val = X_val.drop(columns=columns_to_drop)"
   ]
  },
  {
   "cell_type": "code",
   "execution_count": null,
   "id": "abf5ea6d",
   "metadata": {
    "ExecuteTime": {
     "end_time": "2023-03-29T09:02:31.723078Z",
     "start_time": "2023-03-29T09:02:31.719365Z"
    }
   },
   "outputs": [],
   "source": [
    "numeric = X_train.select_dtypes(include= 'number').columns.tolist()\n",
    "other = X_train.select_dtypes(exclude= 'number').columns.tolist()"
   ]
  },
  {
   "cell_type": "code",
   "execution_count": null,
   "id": "b72935c7",
   "metadata": {
    "ExecuteTime": {
     "end_time": "2023-03-29T09:02:31.831414Z",
     "start_time": "2023-03-29T09:02:31.725263Z"
    }
   },
   "outputs": [],
   "source": [
    "X_train[numeric]=X_train[numeric].fillna(0)\n",
    "X_val[numeric]=X_val[numeric].fillna(0)"
   ]
  },
  {
   "cell_type": "code",
   "execution_count": null,
   "id": "9a3c56f6",
   "metadata": {
    "ExecuteTime": {
     "end_time": "2023-03-29T09:02:45.941502Z",
     "start_time": "2023-03-29T09:02:31.833075Z"
    }
   },
   "outputs": [],
   "source": [
    "lab.log_param('other',str(other))\n",
    "lab.log_param('numeric1',str(numeric[:18]))\n",
    "lab.log_param('numeric2',str(numeric[18:36]))\n",
    "lab.log_param('numeric3',str(numeric[36:]))"
   ]
  },
  {
   "cell_type": "markdown",
   "id": "ad550efb",
   "metadata": {},
   "source": [
    "# Model"
   ]
  }
 ],
 "metadata": {
  "hide_input": false,
  "kernelspec": {
   "display_name": "Python 3 (ipykernel)",
   "language": "python",
   "name": "python3"
  },
  "language_info": {
   "codemirror_mode": {
    "name": "ipython",
    "version": 3
   },
   "file_extension": ".py",
   "mimetype": "text/x-python",
   "name": "python",
   "nbconvert_exporter": "python",
   "pygments_lexer": "ipython3",
   "version": "3.8.10"
  },
  "toc": {
   "base_numbering": 1,
   "nav_menu": {},
   "number_sections": true,
   "sideBar": true,
   "skip_h1_title": false,
   "title_cell": "Table of Contents",
   "title_sidebar": "Contents",
   "toc_cell": false,
   "toc_position": {},
   "toc_section_display": true,
   "toc_window_display": false
  }
 },
 "nbformat": 4,
 "nbformat_minor": 5
}
