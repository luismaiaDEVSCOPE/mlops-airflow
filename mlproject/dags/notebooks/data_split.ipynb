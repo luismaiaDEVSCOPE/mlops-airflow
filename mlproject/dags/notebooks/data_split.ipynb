{
 "cells": [
  {
   "cell_type": "code",
   "execution_count": null,
   "id": "1f2e9be3",
   "metadata": {
    "ExecuteTime": {
     "end_time": "2023-04-18T13:19:14.924242Z",
     "start_time": "2023-04-18T13:19:14.626383Z"
    }
   },
   "outputs": [],
   "source": [
    "import pandas as pd\n",
    "import numpy as np"
   ]
  },
  {
   "cell_type": "code",
   "execution_count": null,
   "id": "d7fd9316",
   "metadata": {
    "ExecuteTime": {
     "end_time": "2023-04-18T13:19:14.928247Z",
     "start_time": "2023-04-18T13:19:14.925772Z"
    },
    "code_folding": [
     0
    ]
   },
   "outputs": [],
   "source": [
    "def convert_str_to_int(x):\n",
    "    try:\n",
    "        return(int(float(x)))\n",
    "    except:\n",
    "        return(np.nan) "
   ]
  },
  {
   "cell_type": "markdown",
   "id": "63622b7e",
   "metadata": {},
   "source": [
    "# Data"
   ]
  },
  {
   "cell_type": "code",
   "execution_count": null,
   "id": "203b6c2d",
   "metadata": {
    "ExecuteTime": {
     "end_time": "2023-04-18T13:19:20.632812Z",
     "start_time": "2023-04-18T13:19:14.929529Z"
    }
   },
   "outputs": [],
   "source": [
    "consultamarcacao = pd.read_csv('/opt/airflow/datasets/absenteeism/ConsultaMarcacao.txt', sep='|',  # , on_bad_lines= \"skip\"\n",
    "                               encoding=\"ISO-8859-1\")[['Nº Sequencial',\n",
    "                                                       'EspecialidadeSKey', 'EstruturaOrganicaSKey', 'Estado Marcação',\n",
    "                                                       'Data Marcação Consulta', 'Data Consulta', 'Hora Consulta',\n",
    "                                                       'Data Registo Falta', 'Data Desmarcação Consulta',\n",
    "                                                       'Motivo Desmarcação', 'Responsável Desmarcação', 'Tipo Consulta',\n",
    "                                                       'Tipo Vaga', 'Tipo Agenda', 'RefLECSKey', 'COD_SECRETARIADO',  'ProvenienciaSKey', 'UnidadeSaudeProvenienciaSKey']]\n",
    "\n",
    "consultamarcacao.columns = ['NUM_SEQUENCIAL', 'EspecialidadeSKey', 'EstruturaOrganicaSKey',\n",
    "                            'EstadoMarcação', 'DataMarcaçãoConsulta', 'DataConsulta',\n",
    "                            'HoraConsulta', 'DataRegistoFalta', 'DataDesmarcaçãoConsulta',\n",
    "                            'MotivoDesmarcação', 'ResponsávelDesmarcação', 'TipoConsulta',\n",
    "                            'TipoVaga', 'TipoAgenda', 'RefLECSKey', 'COD_SECRETARIADO',  'ProvenienciaSKey', 'UnidadeSaudeProvenienciaSKey']"
   ]
  },
  {
   "cell_type": "code",
   "execution_count": null,
   "id": "f4f2f111",
   "metadata": {
    "ExecuteTime": {
     "end_time": "2023-04-18T13:19:20.855925Z",
     "start_time": "2023-04-18T13:19:20.634538Z"
    }
   },
   "outputs": [],
   "source": [
    "consultamarcacao.DataConsulta = pd.to_datetime(consultamarcacao.DataConsulta)"
   ]
  },
  {
   "cell_type": "code",
   "execution_count": null,
   "id": "6bf22efb",
   "metadata": {
    "ExecuteTime": {
     "end_time": "2023-04-18T13:19:21.731018Z",
     "start_time": "2023-04-18T13:19:20.857157Z"
    }
   },
   "outputs": [],
   "source": [
    "consultamarcacao_train = consultamarcacao[(consultamarcacao.DataConsulta>=pd.to_datetime('01-01-2021'))&(consultamarcacao.DataConsulta<pd.to_datetime('01-01-2023')) & (consultamarcacao.MotivoDesmarcação!='ENGANO')].reset_index(drop=True)\n",
    "consultamarcacao_validation = consultamarcacao[(consultamarcacao.DataConsulta>=pd.to_datetime('01-01-2023')) & (consultamarcacao.MotivoDesmarcação!='ENGANO')].reset_index(drop=True)\n",
    "\n",
    "consultamarcacao_train.to_parquet('/opt/airflow/datasets/absenteeism/consultamarcacao_train.parquet', compression='gzip')\n",
    "consultamarcacao_validation.to_parquet('/opt/airflow/datasets/absenteeism/consultamarcacao_validation.parquet', compression='gzip')"
   ]
  },
  {
   "cell_type": "code",
   "execution_count": null,
   "id": "f2cd9a34",
   "metadata": {
    "ExecuteTime": {
     "end_time": "2023-04-18T13:19:41.027854Z",
     "start_time": "2023-04-18T13:19:21.732380Z"
    }
   },
   "outputs": [],
   "source": [
    "consulta = pd.read_csv('/opt/airflow/datasets/absenteeism/Consulta.txt', sep='|', #, on_bad_lines= \"skip\"\n",
    "                       encoding=\"ISO-8859-1\")[['Nº Sequencial', 'DestinoSKey', 'EspecialidadeSKey', 'ProvenienciaSKey',\n",
    "       'UnidadeSaudeDestinoSKey', 'UnidadeSaudeProvenienciaSKey','Data Marcação Consulta', 'HoraId',\n",
    "       'Data Consulta', 'Data Alta Consulta', 'Episódio Consulta',\n",
    "       'Estado Alta', 'Secretariado', 'Tipo Agenda', 'Tipo Consulta', 'Tipo Marcação',\n",
    "       'Tipo Vaga', 'Causa', 'Motivo Anulação', 'Emissão Factura', 'Ref. P1']]\n",
    "\n",
    "consulta.columns = ['NUM_SEQUENCIAL', 'DestinoSKey', 'EspecialidadeSKey', 'ProvenienciaSKey',\n",
    "       'UnidadeSaudeDestinoSKey', 'UnidadeSaudeProvenienciaSKey','DataMarcaçãoConsulta', 'HoraId',\n",
    "       'DataConsulta', 'DataAltaConsulta', 'EpisódioConsulta',\n",
    "       'EstadoAlta', 'Secretariado', 'TipoAgenda', 'TipoConsulta', 'TipoMarcação',\n",
    "       'TipoVaga', 'Causa', 'MotivoAnulação', 'EmissãoFactura', 'RefP1']"
   ]
  },
  {
   "cell_type": "code",
   "execution_count": null,
   "id": "b764591f",
   "metadata": {
    "ExecuteTime": {
     "end_time": "2023-04-18T13:19:41.442982Z",
     "start_time": "2023-04-18T13:19:41.029108Z"
    }
   },
   "outputs": [],
   "source": [
    "consulta.DataConsulta = pd.to_datetime(consulta.DataConsulta)"
   ]
  },
  {
   "cell_type": "code",
   "execution_count": null,
   "id": "89e7c1a1",
   "metadata": {
    "ExecuteTime": {
     "end_time": "2023-04-18T13:19:44.457390Z",
     "start_time": "2023-04-18T13:19:41.444098Z"
    }
   },
   "outputs": [],
   "source": [
    "consulta_train = consulta[(consulta.DataConsulta>=pd.to_datetime('01-01-2021'))&(consulta.DataConsulta<pd.to_datetime('01-01-2023'))].reset_index(drop=True)\n",
    "consulta_validation = consulta[(consulta.DataConsulta>=pd.to_datetime('01-01-2023'))].reset_index(drop=True)\n",
    "\n",
    "consulta_train.astype('str').to_parquet('/opt/airflow/datasets/absenteeism/consulta_train.parquet', compression='gzip')\n",
    "consulta_validation.astype('str').to_parquet('/opt/airflow/datasets/absenteeism/consulta_validation.parquet', compression='gzip')"
   ]
  },
  {
   "cell_type": "code",
   "execution_count": null,
   "id": "429c5301",
   "metadata": {},
   "outputs": [],
   "source": []
  },
  {
   "cell_type": "code",
   "execution_count": null,
   "id": "17ceee6d",
   "metadata": {},
   "outputs": [],
   "source": []
  }
 ],
 "metadata": {
  "hide_input": false,
  "kernelspec": {
   "display_name": "Python 3 (ipykernel)",
   "language": "python",
   "name": "python3"
  },
  "language_info": {
   "codemirror_mode": {
    "name": "ipython",
    "version": 3
   },
   "file_extension": ".py",
   "mimetype": "text/x-python",
   "name": "python",
   "nbconvert_exporter": "python",
   "pygments_lexer": "ipython3",
   "version": "3.8.10"
  },
  "toc": {
   "base_numbering": 1,
   "nav_menu": {},
   "number_sections": true,
   "sideBar": true,
   "skip_h1_title": false,
   "title_cell": "Table of Contents",
   "title_sidebar": "Contents",
   "toc_cell": false,
   "toc_position": {},
   "toc_section_display": true,
   "toc_window_display": false
  }
 },
 "nbformat": 4,
 "nbformat_minor": 5
}
