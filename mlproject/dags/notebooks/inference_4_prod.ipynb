{
 "cells": [
  {
   "cell_type": "code",
   "execution_count": null,
   "id": "332b821f",
   "metadata": {
    "ExecuteTime": {
     "end_time": "2023-04-21T15:25:21.928790Z",
     "start_time": "2023-04-21T15:25:21.920907Z"
    }
   },
   "outputs": [],
   "source": [
    "import pandas as pd\n",
    "\n",
    "\n",
    "pd.set_option('display.max_columns', 200)\n",
    "pd.set_option('display.max_rows', 200)\n",
    "\n",
    "import numpy as np\n",
    "from sklearn.pipeline import FeatureUnion\n",
    "from sklearn.base import BaseEstimator, TransformerMixin\n",
    "from sklearn.linear_model import Perceptron\n",
    "from sklearn.model_selection import train_test_split\n",
    "from sklearn.linear_model import SGDClassifier\n",
    "from sklearn.linear_model import PassiveAggressiveClassifier\n",
    "from sklearn.naive_bayes import MultinomialNB\n",
    "from sklearn.metrics import classification_report, confusion_matrix, accuracy_score, recall_score, precision_score, f1_score, roc_auc_score\n",
    "from sklearn.preprocessing import StandardScaler,FunctionTransformer, MinMaxScaler\n",
    "from imblearn.pipeline import Pipeline\n",
    "from imblearn.over_sampling import SMOTE, RandomOverSampler\n",
    "from imblearn.under_sampling import RandomUnderSampler\n",
    "from lightgbm import LGBMClassifier\n",
    "from xgboost import XGBClassifier\n",
    "import category_encoders as ce\n",
    "#import shap\n",
    "from sklearn.feature_selection import SelectKBest, chi2, SelectFromModel\n",
    "from sklearn import neighbors\n",
    "from hyperopt import Trials, STATUS_OK, tpe, hp, fmin, STATUS_FAIL, space_eval\n",
    "from sklearn.model_selection import train_test_split, cross_val_score, cross_val_predict\n",
    "from geopy.distance import geodesic"
   ]
  },
  {
   "cell_type": "code",
   "execution_count": null,
   "id": "85680111",
   "metadata": {
    "ExecuteTime": {
     "end_time": "2023-04-21T14:39:30.395725Z",
     "start_time": "2023-04-21T14:39:30.387140Z"
    },
    "code_folding": [
     0
    ]
   },
   "outputs": [],
   "source": [
    "class Reduce_memory_usage(TransformerMixin,BaseEstimator):\n",
    "    def __init__(self):\n",
    "        pass\n",
    "    \n",
    "    def fit(self,X,y=None):\n",
    "        return self\n",
    "    \n",
    "    def transform(self, X, verbose=True):\n",
    "        if not isinstance(X, pd.DataFrame):\n",
    "            X = pd.DataFrame(X)\n",
    "            \n",
    "        numerics = [\"int8\", \"int16\", \"int32\", \"int64\", \"float16\", \"float32\", \"float64\"]\n",
    "        start_mem = X.memory_usage().sum() / 1024 ** 2\n",
    "        for col in X.columns:\n",
    "            col_type = X[col].dtypes\n",
    "            if col_type in numerics:\n",
    "                c_min = X[col].min()\n",
    "                c_max = X[col].max()\n",
    "                if str(col_type)[:3] == \"int\":\n",
    "                    if c_min > np.iinfo(np.int8).min and c_max < np.iinfo(np.int8).max:\n",
    "                        X[col] = X[col].astype(np.int8)\n",
    "                    elif c_min > np.iinfo(np.int16).min and c_max < np.iinfo(np.int16).max:\n",
    "                        X[col] = X[col].astype(np.int16)\n",
    "                    elif c_min > np.iinfo(np.int32).min and c_max < np.iinfo(np.int32).max:\n",
    "                        X[col] = X[col].astype(np.int32)\n",
    "                    elif c_min > np.iinfo(np.int64).min and c_max < np.iinfo(np.int64).max:\n",
    "                        X[col] = X[col].astype(np.int64)\n",
    "                else:\n",
    "                    if (\n",
    "                        c_min > np.finfo(np.float16).min\n",
    "                        and c_max < np.finfo(np.float16).max\n",
    "                    ):\n",
    "                        X[col] = X[col].astype(np.float16)\n",
    "                    elif (\n",
    "                        c_min > np.finfo(np.float32).min\n",
    "                        and c_max < np.finfo(np.float32).max\n",
    "                    ):\n",
    "                        X[col] = X[col].astype(np.float32)\n",
    "                    else:\n",
    "                        X[col] = X[col].astype(np.float64)\n",
    "        end_mem = X.memory_usage().sum() / 1024 ** 2\n",
    "        if verbose:\n",
    "            print(\n",
    "                \"Mem. usage decreased to {:.2f} Mb ({:.1f}% reduction)\".format(\n",
    "                    end_mem, 100 * (start_mem - end_mem) / start_mem\n",
    "                )\n",
    "            )\n",
    "        return X"
   ]
  },
  {
   "cell_type": "code",
   "execution_count": null,
   "id": "0662bb91",
   "metadata": {
    "ExecuteTime": {
     "end_time": "2023-04-21T14:39:31.213061Z",
     "start_time": "2023-04-21T14:39:30.397414Z"
    }
   },
   "outputs": [],
   "source": [
    "cl_data = pd.read_parquet('/opt/airflow/datasets/absenteeism/classificacao_1st_especialidade_unidadeprov.parquet')\n",
    "cl_data.loc[:, 'Label']=np.where(cl_data.Label=='Realizada',0,1)\n",
    "cl_data.loc[:,'centro_saude']=np.where(cl_data['Tipo Unidade Proveniência'].isin(['U','C']),'1',np.where(cl_data['Tipo Unidade Proveniência'].isna(),'0','2'))\n",
    "\n",
    "utente = pd.read_parquet('/opt/airflow/datasets/absenteeism/modelacao_1_train_utente_basic_coord.parquet')\n",
    "cl_data = utente.merge(cl_data, on='NUM_SEQUENCIAL', how='inner') # .drop(columns=['NUM_SEQUENCIAL'])\n",
    "cl_data.Sexo=cl_data.Sexo.astype('str') \n",
    "del utente\n",
    "cl_data.head(1)"
   ]
  },
  {
   "cell_type": "code",
   "execution_count": null,
   "id": "1a4753f4",
   "metadata": {
    "ExecuteTime": {
     "end_time": "2023-04-21T14:39:31.263430Z",
     "start_time": "2023-04-21T14:39:31.215276Z"
    }
   },
   "outputs": [],
   "source": [
    "cl_data = cl_data[cl_data.DataConsulta>='2022-11-30'].reset_index(drop=True)"
   ]
  },
  {
   "cell_type": "code",
   "execution_count": null,
   "id": "9f7ada40",
   "metadata": {
    "ExecuteTime": {
     "end_time": "2023-04-21T14:39:31.271531Z",
     "start_time": "2023-04-21T14:39:31.265278Z"
    },
    "code_folding": [
     0
    ]
   },
   "outputs": [],
   "source": [
    "conditions = [\n",
    "    (cl_data.Hora >= 8) & (cl_data.Hora < 10),\n",
    "    (cl_data.Hora >= 10) & (cl_data.Hora < 12),\n",
    "    (cl_data.Hora >= 12) & (cl_data.Hora < 14),\n",
    "    (cl_data.Hora >= 14) & (cl_data.Hora < 17),\n",
    "    (cl_data.Hora >= 17) & (cl_data.Hora < 19),\n",
    "    (cl_data.Hora <  8) | (cl_data.Hora >= 19)\n",
    "    ]\n",
    "faixas = [\"manha1\",\"manha2\",\"almoço\",\"tarde1\",\"tarde2\",\"noite\"]\n",
    "cl_data[\"day_part\"] = np.select(conditions, faixas)"
   ]
  },
  {
   "cell_type": "code",
   "execution_count": null,
   "id": "4dd88080",
   "metadata": {
    "ExecuteTime": {
     "end_time": "2023-04-21T14:39:31.281624Z",
     "start_time": "2023-04-21T14:39:31.272910Z"
    }
   },
   "outputs": [],
   "source": [
    "cl_data.loc[:, 'uni_lat']=np.where(cl_data.Secretariado=='UNIDADE 2',41.106140, np.where(cl_data.Secretariado=='UNIDADE 3 / ESPINHO', 41.002270, None))\n",
    "cl_data.loc[:, 'uni_long']=np.where(cl_data.Secretariado=='UNIDADE 2',-8.591840, np.where(cl_data.Secretariado=='UNIDADE 3 / ESPINHO', -8.642030, None))"
   ]
  },
  {
   "cell_type": "code",
   "execution_count": null,
   "id": "740f9e42",
   "metadata": {
    "ExecuteTime": {
     "end_time": "2023-04-21T14:39:31.288588Z",
     "start_time": "2023-04-21T14:39:31.283021Z"
    },
    "code_folding": [
     0
    ]
   },
   "outputs": [],
   "source": [
    "def distance(row): \n",
    "    address1 = (row['utente_lat'], row['utente_lon']) \n",
    "    address2 = (row['uni_lat'], row['uni_long']) \n",
    "    try:\n",
    "        if address2[0]==None:\n",
    "            return np.nan\n",
    "        else:\n",
    "            return (geodesic(address1, address2).kilometers) \n",
    "    except: \n",
    "        return np.nan"
   ]
  },
  {
   "cell_type": "code",
   "execution_count": null,
   "id": "bcce8364",
   "metadata": {
    "ExecuteTime": {
     "end_time": "2023-04-21T14:39:32.005796Z",
     "start_time": "2023-04-21T14:39:31.289778Z"
    }
   },
   "outputs": [],
   "source": [
    "cl_data.loc[:,\"dist_btw_uni\"] = cl_data.apply(lambda row: distance(row), axis = 1 )"
   ]
  },
  {
   "cell_type": "code",
   "execution_count": null,
   "id": "e468db8c",
   "metadata": {
    "ExecuteTime": {
     "end_time": "2023-04-21T14:39:32.010533Z",
     "start_time": "2023-04-21T14:39:32.007349Z"
    }
   },
   "outputs": [],
   "source": [
    "cl_data.loc[:,\"dist_btw\"] = np.where(~cl_data.dist_btw_uni.isna(), cl_data.dist_btw_uni, cl_data.dist_btw)"
   ]
  },
  {
   "cell_type": "code",
   "execution_count": null,
   "id": "b1dc1cb6",
   "metadata": {
    "ExecuteTime": {
     "end_time": "2023-04-21T14:39:32.040857Z",
     "start_time": "2023-04-21T14:39:32.011828Z"
    },
    "code_folding": [
     1
    ]
   },
   "outputs": [],
   "source": [
    "# 25% feat less importnt\n",
    "weak_feat = ['Especialidade_CIR. GERAL - POS-OPERATORIA','Especialidade_CIRURGIA DERMATOLOGICA',\n",
    " 'Especialidade_CIRURGIA DERMATOLOGICA PEDIATRICA','Especialidade_CIRURGIA GERAL',\n",
    " 'Especialidade_CIRURGIA GERAL-AMBULATORIO UNIDADE3','Especialidade_CIRURGIA PEDIATRICA - ESPINHO',\n",
    " 'Especialidade_CIRURGIA VASCULAR - EXAMES HEMODINAMICOS', 'Especialidade_CONS. MULT. CANCRO COLO-RETAL',\n",
    " 'Especialidade_CONS. MULTIDISC. CABECA E PESCOCO', 'Especialidade_CONS. MULTIDISC. PATOL. HEPATOBILIAR',\n",
    " 'Especialidade_CONS. MULTIDISC. PATOLOGIA GENETICA', 'Especialidade_DERMATOLOGIA - FOTOTERAPIA',\n",
    " 'Especialidade_DERMATOLOGIA - IMAGIOLOGIA CUTANEA', 'Especialidade_DERMATOLOGIA - ONCOLOGIA CUTANEA',\n",
    " 'Especialidade_DERMATOLOGIA - RLEC', 'Especialidade_DERMATOLOGIA-ALERGOLOGIA CUTANEA',\n",
    " 'Especialidade_FOLLOW UP-POS UAVC','Especialidade_FOLLOW UP-POS UAVC CRE',\n",
    " 'Especialidade_NEUROIMUNOLOGIA', 'Especialidade_NEUROLOGIA - AVC',\n",
    " 'Especialidade_NEUROLOGIA - CEFALEIAS', 'Especialidade_NEUROLOGIA - DEMENCIAS',\n",
    " 'Especialidade_NEUROLOGIA - DOENCAS MOVIMENTO', 'Especialidade_NEUROLOGIA - DOENCAS NEUROMUSCULARES',\n",
    " 'Especialidade_NEUROLOGIA - EPILEPSIA', 'Especialidade_NEUROLOGIA - ESPINHO',\n",
    " 'Especialidade_NEUROLOGIA - TOXINAS', 'Especialidade_NEUROPEDIATRIA',\n",
    " 'Especialidade_NEUROPEDIATRIA - ESPINHO', 'Especialidade_OFTALMOLOGIA - GLAUCOMA',\n",
    " 'Especialidade_OFTALMOLOGIA - IMPLANTO-REFRACTIVA', 'Especialidade_OFTALMOLOGIA - INFLAMACAO OCULAR',\n",
    " 'Especialidade_OFTALMOLOGIA - NEUROFTALMOLOGIA', 'Especialidade_OFTALMOLOGIA - OCULOPLASTICA/ORBITA',\n",
    " 'Especialidade_OFTALMOLOGIA - PEDIATRIA/ESTRABISMO', 'Especialidade_OFTALMOLOGIA - RETINA MEDICA',\n",
    " 'Especialidade_OFTALMOLOGIA - RLEC', 'Especialidade_ORTOPEDIA - COLUNA',\n",
    " 'Especialidade_ORTOPEDIA - ESPINHO','Especialidade_ORTOPEDIA - JOELHO',\n",
    " 'Especialidade_ORTOPEDIA - MAO', 'Especialidade_ORTOPEDIA - OMBRO',\n",
    " 'Especialidade_ORTOPEDIA - PE', 'Especialidade_ORTOPEDIA - RLEC',\n",
    " 'Especialidade_OTORRINO', 'Especialidade_OTORRINO - ONCOLOGIA',\n",
    " 'Especialidade_OTORRINO - PEDIATRIA', 'Especialidade_OTORRINO - PRE OPERATORIO',\n",
    " 'Especialidade_OTORRINO - RINOLOGIA', 'Especialidade_OTORRINO - RLEC',\n",
    " 'Especialidade_OTORRINO - VOZ', 'Especialidade_PEDIATRIA - ADOLESCENTES',\n",
    " 'Especialidade_PEDIATRIA - ALERGOLOGIA', 'Especialidade_PEDIATRIA - CDP',\n",
    " 'Especialidade_PEDIATRIA - CONSULTA VIAJANTE', 'Especialidade_PEDIATRIA - DESENVOLVIMENTO',\n",
    " 'Especialidade_PEDIATRIA - DESENVOLVIMENTO PEA', 'Especialidade_PEDIATRIA - DESENVOLVIMENTO/ESPINHO',\n",
    " 'Especialidade_PEDIATRIA - DOENCAS METABOLICAS', 'Especialidade_PEDIATRIA - ENDOCRINOLOGIA/ESPINHO',\n",
    " 'Especialidade_PEDIATRIA - HEMATOLOGIA', 'Especialidade_PEDIATRIA - INFECCIOLOGIA',\n",
    " 'Especialidade_PEDIATRIA - NEFROLOGIA', 'Especialidade_PEDIATRIA - PNEUMOLOGIA',\n",
    " 'Especialidade_PEDIATRIA - REUMATOLOGIA', 'Secretariado_UNIDADE 3 / ESPINHO']\n",
    "\n",
    "weak_feat = [x.replace('Especialidade_','') for x in weak_feat]\n",
    "\n",
    "cl_data.loc[cl_data.Especialidade.isin(weak_feat),'Especialidade'] = cl_data[cl_data.Especialidade.isin(weak_feat)].Especialidade.str.split(' - ',expand=True)[0]+'_agg'\n",
    "\n",
    "cl_data.loc[:,'Especialidade'] = cl_data.Especialidade.str.split(' - ',expand=True)[0]+'_agg'"
   ]
  },
  {
   "cell_type": "code",
   "execution_count": null,
   "id": "f689d0aa",
   "metadata": {
    "ExecuteTime": {
     "end_time": "2023-04-21T14:39:32.057188Z",
     "start_time": "2023-04-21T14:39:32.042448Z"
    },
    "code_folding": [
     8
    ]
   },
   "outputs": [],
   "source": [
    "assid_count_dia_semana = pd.pivot_table(\n",
    "    cl_data.groupby(['month_consulta', 'FaixaEtaria', 'dia_consulta', 'Label'], as_index=False)['Sexo'].count(),\n",
    "    values='Sexo', \n",
    "    index=['month_consulta', 'FaixaEtaria', 'dia_consulta'],\n",
    "    columns=['Label'], aggfunc = np.sum)\\\n",
    "        .reset_index()\n",
    "\n",
    "\n",
    "if 0 in assid_count_dia_semana.columns.to_list() :\n",
    "    if 1 in assid_count_dia_semana.columns.to_list() :\n",
    "\n",
    "        assid_count_dia_semana['assid_dia_semana'] = assid_count_dia_semana[0] /\\\n",
    "            (assid_count_dia_semana[1] + \\\n",
    "            assid_count_dia_semana[0])\n",
    "\n",
    "    else :\n",
    "        assid_count_dia_semana['assid_dia_semana'] = 1\n",
    "    \n",
    "else :\n",
    "    assid_count_dia_semana['assid_dia_semana'] = np.nan\n"
   ]
  },
  {
   "cell_type": "code",
   "execution_count": null,
   "id": "be113bc9",
   "metadata": {
    "ExecuteTime": {
     "end_time": "2023-04-21T14:39:32.073314Z",
     "start_time": "2023-04-21T14:39:32.058956Z"
    },
    "code_folding": [
     8
    ]
   },
   "outputs": [],
   "source": [
    "assid_count_day_part = pd.pivot_table(\n",
    "    cl_data.groupby(['month_consulta', 'FaixaEtaria', 'day_part', 'Label'], as_index=False)['Sexo'].count(),\n",
    "    values='Sexo', \n",
    "    index=['month_consulta', 'FaixaEtaria', 'day_part'],\n",
    "    columns=['Label'], aggfunc = np.sum)\\\n",
    "        .reset_index()\n",
    "\n",
    "\n",
    "if 0 in assid_count_day_part.columns.to_list() :\n",
    "    if 1 in assid_count_day_part.columns.to_list() :\n",
    "\n",
    "        assid_count_day_part['assid_day_part'] = assid_count_day_part[0] /\\\n",
    "            (assid_count_day_part[1] + \\\n",
    "            assid_count_day_part[0])\n",
    "\n",
    "    else :\n",
    "        assid_count_day_part['assid_day_part'] = 1\n",
    "    \n",
    "else :\n",
    "    assid_count_day_part['assid_day_part'] = np.nan\n"
   ]
  },
  {
   "cell_type": "code",
   "execution_count": null,
   "id": "c0272b86",
   "metadata": {
    "ExecuteTime": {
     "end_time": "2023-04-21T14:39:32.090320Z",
     "start_time": "2023-04-21T14:39:32.076015Z"
    }
   },
   "outputs": [],
   "source": [
    "cl_data = cl_data.merge(assid_count_dia_semana[['month_consulta', 'FaixaEtaria', 'dia_consulta', 'assid_dia_semana']], \n",
    "                 on=['month_consulta', 'FaixaEtaria', 'dia_consulta'], how='left') \\\n",
    "        .merge(assid_count_day_part[['month_consulta', 'FaixaEtaria', 'day_part', 'assid_day_part']], \n",
    "                 on=['month_consulta', 'FaixaEtaria', 'day_part'], how='left')\n",
    "\n",
    "del assid_count_dia_semana\n",
    "del assid_count_day_part"
   ]
  },
  {
   "cell_type": "code",
   "execution_count": null,
   "id": "a1d45155",
   "metadata": {
    "ExecuteTime": {
     "end_time": "2023-04-21T14:39:32.120140Z",
     "start_time": "2023-04-21T14:39:32.091922Z"
    },
    "code_folding": []
   },
   "outputs": [],
   "source": [
    "#\"Day_of_week doesn’t have 'x-1' because it goes from 0 to 6. Only variables that start at 1 require the 'x-1'. \"\n",
    "\n",
    "ciclycle=True\n",
    "if ciclycle:\n",
    "    cl_data['hora_sin'] = cl_data['Hora'].apply(lambda x: np.sin((x) * (2. * np.pi/31)))\n",
    "    cl_data['hora_cos'] = cl_data['Hora'].apply(lambda x: np.cos((x) * (2. * np.pi/31)))\n",
    "\n",
    "    #cl_data[\"day_of_month\"] = cl_data[\"DataConsulta\"].dt.day\n",
    "    #cl_data['day_of_month_sin'] = cl_data['day_of_month'].apply(lambda x: np.sin((x-1) * (2. * np.pi/31)))\n",
    "    #cl_data['day_of_month_cos'] = cl_data['day_of_month'].apply(lambda x: np.cos((x-1) * (2. * np.pi/31)))\n",
    "\n",
    "    #cl_data[\"day_of_week\"] = cl_data[\"DataConsulta\"].dt.dayofweek\n",
    "    #cl_data['day_of_week_sin'] = cl_data['day_of_week'].apply(lambda x: np.sin((x) * (2. * np.pi/7)))\n",
    "    #cl_data['day_of_week_cos'] = cl_data['day_of_week'].apply(lambda x: np.cos((x) * (2. * np.pi/7)))"
   ]
  },
  {
   "cell_type": "code",
   "execution_count": null,
   "id": "d9662497",
   "metadata": {
    "ExecuteTime": {
     "end_time": "2023-04-21T14:39:32.127353Z",
     "start_time": "2023-04-21T14:39:32.121643Z"
    }
   },
   "outputs": [],
   "source": [
    "'Especialidade' in cl_data.columns.tolist()"
   ]
  },
  {
   "cell_type": "code",
   "execution_count": null,
   "id": "d3c3ca1f",
   "metadata": {
    "ExecuteTime": {
     "end_time": "2023-04-21T14:39:32.144784Z",
     "start_time": "2023-04-21T14:39:32.128631Z"
    }
   },
   "outputs": [],
   "source": [
    "X_val = cl_data[cl_data.DataConsulta>=pd.to_datetime('2022-12-01')].drop(columns='Label')\n",
    "y_val = cl_data[cl_data.DataConsulta>=pd.to_datetime('2022-12-01')].Label\n",
    "\n",
    "cl_data = X_val"
   ]
  },
  {
   "cell_type": "code",
   "execution_count": null,
   "id": "c0c03bf2",
   "metadata": {
    "ExecuteTime": {
     "end_time": "2023-04-21T14:39:32.156349Z",
     "start_time": "2023-04-21T14:39:32.146399Z"
    }
   },
   "outputs": [],
   "source": [
    "if ciclycle:\n",
    "    columns_to_drop = ['Nacionalidade','FaixaEtaria', 'DataConsulta', 'month_consulta','Hora', 'GrupoEspecialidade', #'Especialidade', #\n",
    "                      'Unidade Proveniência', 'Tipo Unidade Proveniência','dist_btw_uni','uni_lat','uni_long','day_part'] #,'dia_consulta']\n",
    "else:\n",
    "    columns_to_drop = ['Nacionalidade','FaixaEtaria', 'DataConsulta', 'month_consulta','GrupoEspecialidade', #'Especialidade', #\n",
    "                      'Unidade Proveniência', 'Tipo Unidade Proveniência','dist_btw_uni','uni_lat','uni_long','day_part']\n",
    "\n",
    "if \"day_part\" in cl_data.columns.tolist():\n",
    "    columns_to_drop = columns_to_drop + [\"Hora\"]\n",
    "    \n",
    "\n",
    "# test_set = cl_data.loc[:, ~cl_data.columns.isin(columns_to_drop)]\n",
    "\n",
    "persist_columns = ['Unidade Proveniência', \"Secretariado\", \"DataConsulta\", \"NUM_SEQUENCIAL\", \"Especialidade\", \"GrupoEspecialidade\"]\n",
    "\n",
    "cl_data[persist_columns].head()"
   ]
  },
  {
   "cell_type": "code",
   "execution_count": null,
   "id": "0e80c1a5",
   "metadata": {
    "ExecuteTime": {
     "end_time": "2023-04-21T15:25:42.481770Z",
     "start_time": "2023-04-21T15:25:42.477316Z"
    }
   },
   "outputs": [],
   "source": [
    "cl_data.shape"
   ]
  },
  {
   "cell_type": "code",
   "execution_count": null,
   "id": "6d8b0033",
   "metadata": {
    "ExecuteTime": {
     "end_time": "2023-04-21T14:39:32.162929Z",
     "start_time": "2023-04-21T14:39:32.158148Z"
    }
   },
   "outputs": [],
   "source": [
    "numeric = ['dist_btw', 'Idade', 'Diff_marcacao_consulta', 'assiduidade', 'instituicao', 'num_especialidade', 'median_diff_dias_marcacao_consulta', 'max_diff_dias_marcacao_consulta', 'min_diff_dias_marcacao_consulta', 'primeira_interecao_dias', 'last_interecao_dias', 'last_miss', 'last_realizada', 'sp_assiduidade', 'sp_instituicao', 'sp_num_especialidade', 'sp_median_diff_dias_marcacao_consulta', 'sp_max_diff_dias_marcacao_consulta', 'sp_min_diff_dias_marcacao_consulta', 'sp_primeira_interecao_dias','sp_last_interecao_dias', 'sp_last_miss', 'sp_last_realizada', 'hora_sin', 'hora_cos']\n",
    "other = ['Sexo', 'TipoAgenda', 'Secretariado', 'Especialidade', 'dia_consulta', 'centro_saude']\n",
    "\n",
    "\n",
    "#numeric = cl_data.select_dtypes(include= 'number').columns.tolist()\n",
    "#other = cl_data.select_dtypes(exclude= 'number').columns.tolist()"
   ]
  },
  {
   "cell_type": "code",
   "execution_count": null,
   "id": "04bb2f30",
   "metadata": {
    "ExecuteTime": {
     "end_time": "2023-04-21T14:39:32.171442Z",
     "start_time": "2023-04-21T14:39:32.164289Z"
    }
   },
   "outputs": [],
   "source": [
    "test_set = cl_data[other+numeric]"
   ]
  },
  {
   "cell_type": "code",
   "execution_count": null,
   "id": "9c2a4f9e",
   "metadata": {
    "ExecuteTime": {
     "end_time": "2023-04-21T14:39:32.565353Z",
     "start_time": "2023-04-21T14:39:32.173042Z"
    }
   },
   "outputs": [],
   "source": [
    "test_set[numeric]=test_set[numeric].fillna(0)"
   ]
  },
  {
   "cell_type": "code",
   "execution_count": null,
   "id": "bb2b12da",
   "metadata": {
    "ExecuteTime": {
     "end_time": "2023-04-21T14:39:32.927534Z",
     "start_time": "2023-04-21T14:39:32.566907Z"
    }
   },
   "outputs": [],
   "source": [
    "import mlflow\n",
    "\n",
    "logged_model = '/opt/airflow/datasets/models/current/a7f818f9ad574747b3763c95d0274b4d/artifacts/FeatureUnionpipeline/'\n",
    "import os\n",
    "assert os.path.exists(logged_model)\n",
    "feat_model = mlflow.sklearn.load_model(logged_model)\n",
    "\n",
    "logged_model = '/opt/airflow/datasets/models/current/a7f818f9ad574747b3763c95d0274b4d/artifacts/model/'\n",
    "import os\n",
    "assert os.path.exists(logged_model)\n",
    "model = mlflow.sklearn.load_model(logged_model)"
   ]
  },
  {
   "cell_type": "code",
   "execution_count": null,
   "id": "da5f811b",
   "metadata": {
    "ExecuteTime": {
     "end_time": "2023-04-21T14:39:32.933319Z",
     "start_time": "2023-04-21T14:39:32.929807Z"
    },
    "code_folding": [
     0
    ]
   },
   "outputs": [],
   "source": [
    "class get_feature_names(TransformerMixin):\n",
    "    def transform(self, df):\n",
    "        return df\n",
    "\n",
    "    def get_feature_names(self):\n",
    "        return df.columns.tolist()"
   ]
  },
  {
   "cell_type": "markdown",
   "id": "6722409e",
   "metadata": {},
   "source": [
    "validar colunas"
   ]
  },
  {
   "cell_type": "code",
   "execution_count": null,
   "id": "1acd4ce9",
   "metadata": {
    "ExecuteTime": {
     "end_time": "2023-04-21T14:39:33.048117Z",
     "start_time": "2023-04-21T14:39:32.935511Z"
    }
   },
   "outputs": [],
   "source": [
    "X_trans = feat_model.transform(test_set)\n",
    "columns_names = feat_model.transformer_list[0][1].named_steps['encode'].get_feature_names() + numeric\n",
    "X_trans = pd.DataFrame(X_trans, columns=columns_names)"
   ]
  },
  {
   "cell_type": "code",
   "execution_count": null,
   "id": "7a189c5f",
   "metadata": {
    "ExecuteTime": {
     "end_time": "2023-04-21T14:39:33.053269Z",
     "start_time": "2023-04-21T14:39:33.049786Z"
    }
   },
   "outputs": [],
   "source": [
    "X_trans.shape"
   ]
  },
  {
   "cell_type": "code",
   "execution_count": null,
   "id": "37a91a05",
   "metadata": {
    "ExecuteTime": {
     "end_time": "2023-04-21T14:39:33.061436Z",
     "start_time": "2023-04-21T14:39:33.054580Z"
    }
   },
   "outputs": [],
   "source": [
    "drop_col = ['TipoAgenda_Sem Agendamento', 'Secretariado_nan', #'Sexo_0', 'centro_saude_0', \n",
    "             'Secretariado_CRN', 'dia_consulta_Sunday', 'dia_consulta_Saturday',\n",
    "             'Secretariado_UNIDADE 3 / ESPINHO','Sexo_1','centro_saude_0','sp_last_miss'] "
   ]
  },
  {
   "cell_type": "code",
   "execution_count": null,
   "id": "2076cb4d",
   "metadata": {
    "ExecuteTime": {
     "end_time": "2023-04-21T14:39:33.068315Z",
     "start_time": "2023-04-21T14:39:33.062759Z"
    }
   },
   "outputs": [],
   "source": [
    "col_to_keep = list(set(X_trans.columns.tolist())-set(drop_col))"
   ]
  },
  {
   "cell_type": "code",
   "execution_count": null,
   "id": "f53ddbaa",
   "metadata": {
    "ExecuteTime": {
     "end_time": "2023-04-21T14:39:33.077117Z",
     "start_time": "2023-04-21T14:39:33.069729Z"
    }
   },
   "outputs": [],
   "source": [
    "if col_to_keep!=None:\n",
    "    X_trans = X_trans[col_to_keep]"
   ]
  },
  {
   "cell_type": "markdown",
   "id": "c3025a62",
   "metadata": {},
   "source": [
    "# Tudo o que está antes é preprocessing #"
   ]
  },
  {
   "cell_type": "code",
   "execution_count": null,
   "id": "cd485e66",
   "metadata": {},
   "outputs": [],
   "source": []
  },
  {
   "cell_type": "code",
   "execution_count": null,
   "id": "b18663eb",
   "metadata": {
    "ExecuteTime": {
     "end_time": "2023-04-21T14:45:19.418284Z",
     "start_time": "2023-04-21T14:45:19.403169Z"
    }
   },
   "outputs": [],
   "source": [
    "test_ds_with_extra = pd.concat([X_trans, cl_data[persist_columns]], axis=1)\n",
    "# test_ds_with_extra.to_parquet('/absenteeism/test_pre_process_data/classificacaotest_set.parquet', compression='gzip')"
   ]
  },
  {
   "cell_type": "code",
   "execution_count": null,
   "id": "266f38b4",
   "metadata": {
    "ExecuteTime": {
     "end_time": "2023-04-21T14:45:27.577768Z",
     "start_time": "2023-04-21T14:45:27.548017Z"
    }
   },
   "outputs": [],
   "source": [
    "test_ds_with_extra.head()"
   ]
  },
  {
   "cell_type": "code",
   "execution_count": null,
   "id": "46866f2f",
   "metadata": {
    "ExecuteTime": {
     "end_time": "2023-04-21T14:47:40.599311Z",
     "start_time": "2023-04-21T14:47:40.473409Z"
    }
   },
   "outputs": [],
   "source": [
    "pred_probs = model.predict_proba(X_trans)\n",
    "\n",
    "res = np.zeros(((2, len(pred_probs))))\n",
    "\n",
    "res[0] = np.amax(pred_probs, axis=1)\n",
    "res[1] = np.argmax(pred_probs, axis=1)\n",
    "\n",
    "probs_df = pd.DataFrame(data=np.rot90(res), columns=[\"Probabilidade\", \"EstadoPrevisto\"])\n",
    "del res\n",
    "final = pd.concat([test_ds_with_extra[persist_columns], probs_df], axis=1)\n",
    "final[\"EstadoPrevisto\"] = np.where(final[\"EstadoPrevisto\"] == 0, 'Realizada', 'Não efetivada e Não Desmarcada')\n",
    "final.head()"
   ]
  },
  {
   "cell_type": "code",
   "execution_count": null,
   "id": "4d3a01f9",
   "metadata": {},
   "outputs": [],
   "source": []
  }
 ],
 "metadata": {
  "hide_input": false,
  "kernelspec": {
   "display_name": "Python 3 (ipykernel)",
   "language": "python",
   "name": "python3"
  },
  "language_info": {
   "codemirror_mode": {
    "name": "ipython",
    "version": 3
   },
   "file_extension": ".py",
   "mimetype": "text/x-python",
   "name": "python",
   "nbconvert_exporter": "python",
   "pygments_lexer": "ipython3",
   "version": "3.8.10"
  },
  "toc": {
   "base_numbering": 1,
   "nav_menu": {},
   "number_sections": true,
   "sideBar": true,
   "skip_h1_title": false,
   "title_cell": "Table of Contents",
   "title_sidebar": "Contents",
   "toc_cell": false,
   "toc_position": {},
   "toc_section_display": true,
   "toc_window_display": false
  }
 },
 "nbformat": 4,
 "nbformat_minor": 5
}
