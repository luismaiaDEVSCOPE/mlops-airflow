{
 "cells": [
  {
   "cell_type": "code",
   "execution_count": null,
   "id": "27edab3a",
   "metadata": {
    "ExecuteTime": {
     "end_time": "2023-04-18T14:58:54.407035Z",
     "start_time": "2023-04-18T14:58:54.083305Z"
    }
   },
   "outputs": [],
   "source": [
    "import pandas as pd\n",
    "import numpy as np"
   ]
  },
  {
   "cell_type": "code",
   "execution_count": null,
   "id": "d4a5c969",
   "metadata": {
    "ExecuteTime": {
     "end_time": "2023-04-18T14:58:54.410688Z",
     "start_time": "2023-04-18T14:58:54.408702Z"
    }
   },
   "outputs": [],
   "source": [
    "import warnings\n",
    "warnings.filterwarnings(\"ignore\")"
   ]
  },
  {
   "cell_type": "code",
   "execution_count": null,
   "id": "4532a6d4",
   "metadata": {
    "ExecuteTime": {
     "end_time": "2023-04-18T14:58:54.424737Z",
     "start_time": "2023-04-18T14:58:54.411850Z"
    },
    "code_folding": [
     0
    ]
   },
   "outputs": [],
   "source": [
    "def convert_str_to_int(x):\n",
    "    try:\n",
    "        return(int(float(x)))\n",
    "    except:\n",
    "        return(np.nan)"
   ]
  },
  {
   "cell_type": "markdown",
   "id": "b946147c",
   "metadata": {},
   "source": [
    "# Data"
   ]
  },
  {
   "cell_type": "markdown",
   "id": "08ce4e23",
   "metadata": {},
   "source": [
    "## Consultas "
   ]
  },
  {
   "cell_type": "code",
   "execution_count": null,
   "id": "30a96052",
   "metadata": {
    "ExecuteTime": {
     "end_time": "2023-04-18T14:58:56.887008Z",
     "start_time": "2023-04-18T14:58:54.426314Z"
    }
   },
   "outputs": [],
   "source": [
    "consulta_train = pd.read_parquet('/opt/airflow/datasets/absenteeism/consulta_train.parquet')\n",
    "consultamarcacao_train = pd.read_parquet('/opt/airflow/datasets/absenteeism/consultamarcacao_train.parquet')\n",
    "\n",
    "## cod_secretariado\n",
    "cod_sec = {'0': 'SECR. UNICO', '1': 'UNIDADE 1', '2':'UNIDADE 2', '3':'UNIDADE 3 / ESPINHO', '99': 'MULTIBANCO',\n",
    "           '5': 'CRN', '4':'CUIDADOS CONTINUADOS', '98':'MEDSOFT GESTÃO ATEND'}\n",
    "\n",
    "consultamarcacao_train['Secretariado']=consultamarcacao_train.COD_SECRETARIADO.astype('str').map(cod_sec)\n",
    "consulta_train['EstadoMarcação']='Realizada'\n",
    "consulta_train['ResponsávelDesmarcação']=None\n",
    "consulta_train.HoraId = consulta_train.HoraId.astype('float')\n",
    "consultamarcacao_train['HoraId'] = consultamarcacao_train['HoraConsulta'].str[:2].astype('float')"
   ]
  },
  {
   "cell_type": "code",
   "execution_count": null,
   "id": "414cc746",
   "metadata": {
    "ExecuteTime": {
     "end_time": "2023-04-18T14:58:56.891199Z",
     "start_time": "2023-04-18T14:58:56.888556Z"
    }
   },
   "outputs": [],
   "source": [
    "col_keep = ['NUM_SEQUENCIAL', 'EspecialidadeSKey', 'EstadoMarcação', 'DataMarcaçãoConsulta', 'DataConsulta',\n",
    "       'HoraId', 'ResponsávelDesmarcação', 'TipoConsulta', 'TipoVaga', 'TipoAgenda',\n",
    "           'Secretariado', 'UnidadeSaudeProvenienciaSKey']"
   ]
  },
  {
   "cell_type": "code",
   "execution_count": null,
   "id": "bdf3f090",
   "metadata": {
    "ExecuteTime": {
     "end_time": "2023-04-18T14:58:58.841352Z",
     "start_time": "2023-04-18T14:58:56.892548Z"
    }
   },
   "outputs": [],
   "source": [
    "data=pd.concat([consultamarcacao_train[col_keep], consulta_train[col_keep]]).reset_index(drop=True)"
   ]
  },
  {
   "cell_type": "code",
   "execution_count": null,
   "id": "439fb728",
   "metadata": {
    "ExecuteTime": {
     "end_time": "2023-04-18T14:58:59.614237Z",
     "start_time": "2023-04-18T14:58:58.842992Z"
    }
   },
   "outputs": [],
   "source": [
    "data.TipoVaga = np.where(data.TipoVaga=='Primeira', 'Primeira','Subsequente')\n",
    "data.TipoAgenda = np.where(data.TipoAgenda.isin(['Especialidade', 'Sem Agendamento']), data.TipoAgenda, 'Medico')\n",
    "data.UnidadeSaudeProvenienciaSKey=data.UnidadeSaudeProvenienciaSKey.astype('float')"
   ]
  },
  {
   "cell_type": "code",
   "execution_count": null,
   "id": "71da5118",
   "metadata": {
    "ExecuteTime": {
     "end_time": "2023-04-18T14:59:00.288095Z",
     "start_time": "2023-04-18T14:58:59.615859Z"
    }
   },
   "outputs": [],
   "source": [
    "data[data.UnidadeSaudeProvenienciaSKey.isna()].groupby('EstadoMarcação')['NUM_SEQUENCIAL'].count()"
   ]
  },
  {
   "cell_type": "code",
   "execution_count": null,
   "id": "1ab4b52b",
   "metadata": {
    "ExecuteTime": {
     "end_time": "2023-04-18T14:59:00.295263Z",
     "start_time": "2023-04-18T14:59:00.289576Z"
    }
   },
   "outputs": [],
   "source": [
    "data.UnidadeSaudeProvenienciaSKey.isna().sum()"
   ]
  },
  {
   "cell_type": "code",
   "execution_count": null,
   "id": "a916ab4a",
   "metadata": {
    "ExecuteTime": {
     "end_time": "2023-04-18T14:59:00.890363Z",
     "start_time": "2023-04-18T14:59:00.298087Z"
    }
   },
   "outputs": [],
   "source": [
    "assert data.HoraId.nunique()<= 24 , 'Duplicated data ...'\n",
    "assert data.TipoConsulta.nunique() == 4 , 'Duplicated data ...'\n",
    "assert data.TipoVaga.nunique() == 2 , 'Duplicated data ...'\n",
    "assert data.TipoAgenda.nunique() == 3 , 'Duplicated data ...'\n",
    "assert data[data.Secretariado!='nan'].Secretariado.nunique() == 4 , 'Duplicated data ...'"
   ]
  },
  {
   "cell_type": "code",
   "execution_count": null,
   "id": "84e2e072",
   "metadata": {
    "ExecuteTime": {
     "end_time": "2023-04-18T14:59:02.920838Z",
     "start_time": "2023-04-18T14:59:00.892057Z"
    }
   },
   "outputs": [],
   "source": [
    "data = data.drop_duplicates(keep='first').reset_index(drop=True)"
   ]
  },
  {
   "cell_type": "code",
   "execution_count": null,
   "id": "634da26c",
   "metadata": {
    "ExecuteTime": {
     "end_time": "2023-04-18T14:59:03.496440Z",
     "start_time": "2023-04-18T14:59:02.922475Z"
    }
   },
   "outputs": [],
   "source": [
    "data[['NUM_SEQUENCIAL','EspecialidadeSKey']] = data[['NUM_SEQUENCIAL','EspecialidadeSKey']].astype('float').astype('int')"
   ]
  },
  {
   "cell_type": "code",
   "execution_count": null,
   "id": "84b76099",
   "metadata": {
    "ExecuteTime": {
     "end_time": "2023-04-18T14:59:03.521985Z",
     "start_time": "2023-04-18T14:59:03.497987Z"
    }
   },
   "outputs": [],
   "source": [
    "especialidade = pd.read_csv('/opt/airflow/datasets/absenteeism/Especialidade.txt', sep=',', encoding=\"ISO-8859-1\", on_bad_lines= \"skip\")\n",
    "especialidade.columns = ['EspecialidadeSKey', 'GrupoEspecialidadeSKey', 'CodEspecialidade',\n",
    "       'Código Especialidade', 'Especialidade', 'CodGrupoEspecialidade',\n",
    "       'GrupoEspecialidade', 'Especialidade Módulo', 'CodECLIN', 'Estado']\n",
    "especialidade.EspecialidadeSKey=especialidade.EspecialidadeSKey.astype('float').astype('int')"
   ]
  },
  {
   "cell_type": "code",
   "execution_count": null,
   "id": "4ee1fceb",
   "metadata": {
    "ExecuteTime": {
     "end_time": "2023-04-18T14:59:04.409337Z",
     "start_time": "2023-04-18T14:59:03.523530Z"
    }
   },
   "outputs": [],
   "source": [
    "data = data.merge(especialidade[['EspecialidadeSKey','Especialidade','GrupoEspecialidade']], \n",
    "                                       on='EspecialidadeSKey', \n",
    "                                       how='inner')\\\n",
    "                                .drop(columns=['EspecialidadeSKey'])"
   ]
  },
  {
   "cell_type": "code",
   "execution_count": null,
   "id": "2d007003",
   "metadata": {
    "ExecuteTime": {
     "end_time": "2023-04-18T14:59:04.413480Z",
     "start_time": "2023-04-18T14:59:04.410955Z"
    }
   },
   "outputs": [],
   "source": [
    "del especialidade"
   ]
  },
  {
   "cell_type": "code",
   "execution_count": null,
   "id": "fbb34d1c",
   "metadata": {
    "ExecuteTime": {
     "end_time": "2023-04-18T14:59:05.364665Z",
     "start_time": "2023-04-18T14:59:04.414954Z"
    }
   },
   "outputs": [],
   "source": [
    "# U - urgencia diferida, C - Centro Saúde, O - Outros, H - hospital\n",
    "unidadesaudeprov = pd.read_csv('/opt/airflow/datasets/absenteeism/unisau.txt', sep='|', encoding=\"ISO-8859-1\")\n",
    "unidadesaudeprov.UnidadeSaudeProvenienciaSKey = unidadesaudeprov.UnidadeSaudeProvenienciaSKey.astype('float').astype('int')\n",
    "data = data.merge(unidadesaudeprov[['UnidadeSaudeProvenienciaSKey', 'Unidade Proveniência', 'Tipo Unidade Proveniência']], on = 'UnidadeSaudeProvenienciaSKey', how='left').drop(columns=['UnidadeSaudeProvenienciaSKey'])"
   ]
  },
  {
   "cell_type": "code",
   "execution_count": null,
   "id": "c948914b",
   "metadata": {
    "ExecuteTime": {
     "end_time": "2023-04-18T14:59:05.369194Z",
     "start_time": "2023-04-18T14:59:05.366292Z"
    }
   },
   "outputs": [],
   "source": [
    "del unidadesaudeprov"
   ]
  },
  {
   "cell_type": "code",
   "execution_count": null,
   "id": "b1fe243d",
   "metadata": {
    "ExecuteTime": {
     "end_time": "2023-04-18T14:59:05.382078Z",
     "start_time": "2023-04-18T14:59:05.370678Z"
    },
    "code_folding": []
   },
   "outputs": [],
   "source": [
    "define_grupo_esp = ['Pediatria', 'Cirurgia', 'Cirurgia Pediatrica', 'Cirurgia Vascular', 'Ortopedia',  'Dermatologia',\n",
    "                   'Oftalmologia', 'Otorrino', 'Peneumologia', 'Neurologia']"
   ]
  },
  {
   "cell_type": "code",
   "execution_count": null,
   "id": "ec9388bb",
   "metadata": {
    "ExecuteTime": {
     "end_time": "2023-04-18T14:59:06.275368Z",
     "start_time": "2023-04-18T14:59:05.383528Z"
    }
   },
   "outputs": [],
   "source": [
    "data.DataConsulta=pd.to_datetime(data.DataConsulta)\n",
    "data.DataMarcaçãoConsulta=pd.to_datetime(data.DataMarcaçãoConsulta)"
   ]
  },
  {
   "cell_type": "markdown",
   "id": "c3f6199c",
   "metadata": {},
   "source": [
    "### Foco da classificação\n",
    "Consultas médicas, primeiras, vindos dos centros de saúde"
   ]
  },
  {
   "cell_type": "code",
   "execution_count": null,
   "id": "cb01b40e",
   "metadata": {
    "ExecuteTime": {
     "end_time": "2023-04-18T14:59:06.608835Z",
     "start_time": "2023-04-18T14:59:06.277145Z"
    }
   },
   "outputs": [],
   "source": [
    "label_data = data[data.EstadoMarcação.isin(['Realizada','Não efetivada e Não Desmarcada']) \n",
    "                  & (data.TipoConsulta=='Consulta Médica') \n",
    "                  & (data.GrupoEspecialidade.isin(define_grupo_esp))].drop_duplicates( \\\n",
    "        subset=['NUM_SEQUENCIAL', 'GrupoEspecialidade', 'DataConsulta'], keep='first').reset_index(drop=True)"
   ]
  },
  {
   "cell_type": "code",
   "execution_count": null,
   "id": "0dc11f2b",
   "metadata": {},
   "outputs": [],
   "source": []
  },
  {
   "cell_type": "code",
   "execution_count": null,
   "id": "e84860ca",
   "metadata": {
    "ExecuteTime": {
     "end_time": "2023-04-18T14:59:06.614588Z",
     "start_time": "2023-04-18T14:59:06.610475Z"
    },
    "code_folding": []
   },
   "outputs": [],
   "source": [
    "def get_time_info(historica_general_data):\n",
    "    historica_general_data.loc[:,'Diff_marcacao_consulta'] = (historica_general_data.loc[:,'DataConsulta']-historica_general_data.loc[:,'DataMarcaçãoConsulta']).dt.days\n",
    "    historica_general_data.loc[:, 'Diff_marcacao_consulta'] = np.where(historica_general_data.loc[:, 'Diff_marcacao_consulta']<0,0,historica_general_data.loc[:,'Diff_marcacao_consulta'])\n",
    "    historica_general_data.loc[:,'dia_consulta'] = historica_general_data.loc[:,'DataConsulta'].dt.day_name()\n",
    "    historica_general_data.loc[:,'month_consulta'] = historica_general_data.loc[:, 'DataConsulta'].dt.month\n",
    "    historica_general_data['Diff_marcacao_consulta'] = (historica_general_data.DataConsulta-historica_general_data.DataMarcaçãoConsulta).dt.days\n",
    "    historica_general_data.Diff_marcacao_consulta = np.where(historica_general_data.Diff_marcacao_consulta<0,0,historica_general_data.Diff_marcacao_consulta)\n",
    "    \n",
    "    return(historica_general_data)"
   ]
  },
  {
   "cell_type": "code",
   "execution_count": null,
   "id": "aaf94bc2",
   "metadata": {
    "ExecuteTime": {
     "end_time": "2023-04-18T14:59:06.624647Z",
     "start_time": "2023-04-18T14:59:06.615841Z"
    },
    "code_folding": []
   },
   "outputs": [],
   "source": [
    "def get_historic_info(historica_data, current_date, extra=''):\n",
    "    instituicao = 1 if historica_data[historica_data.ResponsávelDesmarcação=='Instituição'].shape[0]>=1 else 0\n",
    "    n_esp = historica_data.Especialidade.nunique()\n",
    "    median_diff_dias_marcacao_consulta = historica_data[~historica_data.DataMarcaçãoConsulta.isna()].Diff_marcacao_consulta.median()\n",
    "    max_diff_dias_marcacao_consulta = historica_data[~historica_data.DataMarcaçãoConsulta.isna()].Diff_marcacao_consulta.max()\n",
    "    min_diff_dias_marcacao_consulta = historica_data[~historica_data.DataMarcaçãoConsulta.isna()].Diff_marcacao_consulta.min()\n",
    "    primeira_interecao = (current_date-historica_data.DataConsulta.min()).days\n",
    "    last_interecao = (current_date-historica_data.DataConsulta.max()).days\n",
    "    last_miss = 1 if (historica_data[historica_data.DataConsulta==historica_data.DataConsulta.max()].EstadoMarcação=='Não efetivada e Não Desmarcada').sum()>=1 else 0\n",
    "    last_realizada = 1 if (historica_data[historica_data.DataConsulta==historica_data.DataConsulta.max()].EstadoMarcação=='Realizada').sum()>=1 else 0\n",
    "\n",
    "    define_grupo_esp = pd.pivot_table(historica_data.groupby(['EstadoMarcação'], as_index=False)['TipoVaga'].count(),\n",
    "                   values='TipoVaga', \n",
    "                   columns=['EstadoMarcação'], aggfunc=np.sum)\n",
    "    define_grupo_esp = pd.DataFrame(define_grupo_esp.to_records()).fillna(0)\n",
    "    for i in ['Realizada', 'Não efetivada e Não Desmarcada']:\n",
    "        if i not in define_grupo_esp.columns.tolist():\n",
    "            define_grupo_esp[i] = 0\n",
    "    define_grupo_esp.loc[:,'Não efetivada e Não Desmarcada']=np.where((define_grupo_esp['Não efetivada e Não Desmarcada']==0)\n",
    "                                                                       & (define_grupo_esp.Realizada==0),0.00001,define_grupo_esp['Não efetivada e Não Desmarcada'])\n",
    "    define_grupo_esp['assiduidade'] = define_grupo_esp.Realizada/(define_grupo_esp.Realizada+define_grupo_esp['Não efetivada e Não Desmarcada'])\n",
    "    \n",
    "    return({f'{extra}assiduidade':define_grupo_esp.assiduidade.item(), f'{extra}instituicao': instituicao, \n",
    "            f'{extra}num_especialidade': n_esp, f'{extra}median_diff_dias_marcacao_consulta':median_diff_dias_marcacao_consulta,\n",
    "            f'{extra}max_diff_dias_marcacao_consulta':max_diff_dias_marcacao_consulta,\n",
    "            f'{extra}min_diff_dias_marcacao_consulta': min_diff_dias_marcacao_consulta,\n",
    "            f'{extra}primeira_interecao_dias': primeira_interecao, f'{extra}last_interecao_dias': last_interecao, \n",
    "            f'{extra}last_miss': last_miss, f'{extra}last_realizada': last_realizada})"
   ]
  },
  {
   "cell_type": "code",
   "execution_count": null,
   "id": "21a694d1",
   "metadata": {
    "ExecuteTime": {
     "end_time": "2023-04-18T14:59:06.635939Z",
     "start_time": "2023-04-18T14:59:06.626174Z"
    },
    "code_folding": []
   },
   "outputs": [],
   "source": [
    "def run(irow, data):\n",
    "    historic_general_data = data[(data.NUM_SEQUENCIAL==irow.NUM_SEQUENCIAL) \n",
    "               & (data.DataConsulta<irow.DataConsulta)]\n",
    "    historic_same_sp_data = data[(data.NUM_SEQUENCIAL==irow.NUM_SEQUENCIAL) \n",
    "               & (data.DataConsulta<irow.DataConsulta)\n",
    "               & (data.GrupoEspecialidade==irow.GrupoEspecialidade)]\n",
    "\n",
    "    if len(historic_same_sp_data)>0:\n",
    "        historic_same_sp_data = get_time_info(historic_same_sp_data)\n",
    "        historic_sp_info = get_historic_info(historic_same_sp_data, irow.DataConsulta, extra='sp_')\n",
    "    else:\n",
    "        for ic in ['Diff_marcacao_consulta', 'dia_consulta', 'month_consulta']:            \n",
    "            historic_same_sp_data[ic] = None\n",
    "            historic_sp_info = {'sp_assiduidade': 0, 'sp_instituicao': 0, 'sp_num_especialidade': 0, 'sp_median_diff_dias_marcacao_consulta': 0,\n",
    "             'sp_max_diff_dias_marcacao_consulta': 0, 'sp_min_diff_dias_marcacao_consulta': 0,\n",
    "             'sp_primeira_interecao_dias': 0, 'sp_last_interecao_dias': 0, 'sp_last_miss': False, 'sp_last_realizada': False}\n",
    "\n",
    "    if len(historic_general_data)>0:\n",
    "        historic_general_data = get_time_info(historic_general_data)\n",
    "        historic_info = get_historic_info(historic_general_data, irow.DataConsulta)\n",
    "    else:\n",
    "        for ic in ['Diff_marcacao_consulta', 'dia_consulta', 'month_consulta']:            \n",
    "            historic_general_data[ic] = None\n",
    "        historic_info = {'assiduidade': 0, 'instituicao': 0, 'num_especialidade': 0, 'median_diff_dias_marcacao_consulta': 0,\n",
    "         'max_diff_dias_marcacao_consulta': 0, 'min_diff_dias_marcacao_consulta': 0,\n",
    "         'primeira_interecao_dias': 0, 'last_interecao_dias': 0, 'last_miss': False, 'last_realizada': False}\n",
    "\n",
    "    info_appoitment_label = pd.DataFrame(irow[['NUM_SEQUENCIAL','EstadoMarcação', 'DataMarcaçãoConsulta', 'DataConsulta', 'HoraId', 'TipoAgenda', 'Secretariado',\n",
    "               'GrupoEspecialidade', 'Especialidade', 'Unidade Proveniência', 'Tipo Unidade Proveniência','TipoVaga']]).T.reset_index(drop=True)\n",
    "    info_appoitment_label.loc[:,'Diff_marcacao_consulta'] = (info_appoitment_label.loc[:,'DataConsulta']-info_appoitment_label.loc[:,'DataMarcaçãoConsulta']).dt.days\n",
    "    info_appoitment_label=info_appoitment_label.drop(columns=['DataMarcaçãoConsulta'])\n",
    "    info_appoitment_label.columns = ['NUM_SEQUENCIAL','Label', 'DataConsulta', 'Hora', 'TipoAgenda', 'Secretariado', 'GrupoEspecialidade', 'Especialidade', 'Unidade Proveniência', 'Tipo Unidade Proveniência', 'TipoVaga', 'Diff_marcacao_consulta']\n",
    "    info_appoitment_label.loc[:,'dia_consulta'] = info_appoitment_label.loc[:,'DataConsulta'].dt.day_name()\n",
    "    info_appoitment_label.loc[:,'month_consulta'] = info_appoitment_label.loc[:, 'DataConsulta'].dt.month\n",
    "\n",
    "    info_appoitment_label = info_appoitment_label.merge(pd.DataFrame(historic_info, index=[0]), left_index=True, right_index=True) \\\n",
    "                                .merge(pd.DataFrame(historic_sp_info, index=[0]), left_index=True, right_index=True)\n",
    "    return(info_appoitment_label)"
   ]
  },
  {
   "cell_type": "code",
   "execution_count": null,
   "id": "eaa8ee22",
   "metadata": {
    "ExecuteTime": {
     "end_time": "2023-04-18T14:59:06.647924Z",
     "start_time": "2023-04-18T14:59:06.637294Z"
    }
   },
   "outputs": [],
   "source": []
  },
  {
   "cell_type": "code",
   "execution_count": null,
   "id": "9b8132b5",
   "metadata": {
    "ExecuteTime": {
     "end_time": "2023-04-18T15:40:53.320430Z",
     "start_time": "2023-04-18T14:59:06.649324Z"
    }
   },
   "outputs": [],
   "source": [
    "import multiprocessing as mp\n",
    "\n",
    "# data_subset = label_data[label_data.DataConsulta >= '2022-11-30']\n",
    "data_subset = label_data[:100]\n",
    "\n",
    "\n",
    "pool = mp.Pool(mp.cpu_count()-1)\n",
    "info_all = [pool.apply(run, args=(doc_data, data[(data.NUM_SEQUENCIAL==doc_data.NUM_SEQUENCIAL)])) \\\n",
    "             for j, doc_data in data_subset.iterrows()]\n",
    "                    "
   ]
  },
  {
   "cell_type": "markdown",
   "id": "02d588d7",
   "metadata": {
    "ExecuteTime": {
     "start_time": "2023-04-18T13:20:27.563Z"
    }
   },
   "source": [
    "~~~ Python\n",
    "import multiprocessing as mp\n",
    "\n",
    "pool = mp.Pool(mp.cpu_count()-1)\n",
    "info_all = [pool.apply(run, args=(doc_data, data[(data.NUM_SEQUENCIAL==doc_data.NUM_SEQUENCIAL)])) \\\n",
    "            for j, doc_data in label_data.iterrows()]\n",
    "~~~             "
   ]
  },
  {
   "cell_type": "code",
   "execution_count": null,
   "id": "efafcbb2",
   "metadata": {
    "ExecuteTime": {
     "end_time": "2023-04-18T14:19:17.344779Z",
     "start_time": "2023-04-18T14:19:17.285532Z"
    }
   },
   "outputs": [],
   "source": [
    "# pd.concat(info_all).to_parquet('/opt/airflow/datasets/absenteeism/classificacao_1st_especialidade_unidadeprov_all.parquet', compression='gzip')\n",
    "pd.concat(info_all).to_parquet('/opt/airflow/datasets/absenteeism/classificacao_1st_especialidade_unidadeprov.parquet', compression='gzip')"
   ]
  },
  {
   "cell_type": "code",
   "execution_count": null,
   "id": "9fad2916",
   "metadata": {},
   "outputs": [],
   "source": []
  }
 ],
 "metadata": {
  "hide_input": false,
  "kernelspec": {
   "display_name": "Python 3 (ipykernel)",
   "language": "python",
   "name": "python3"
  },
  "language_info": {
   "codemirror_mode": {
    "name": "ipython",
    "version": 3
   },
   "file_extension": ".py",
   "mimetype": "text/x-python",
   "name": "python",
   "nbconvert_exporter": "python",
   "pygments_lexer": "ipython3",
   "version": "3.8.10"
  },
  "toc": {
   "base_numbering": 1,
   "nav_menu": {},
   "number_sections": true,
   "sideBar": true,
   "skip_h1_title": false,
   "title_cell": "Table of Contents",
   "title_sidebar": "Contents",
   "toc_cell": false,
   "toc_position": {},
   "toc_section_display": true,
   "toc_window_display": false
  }
 },
 "nbformat": 4,
 "nbformat_minor": 5
}
