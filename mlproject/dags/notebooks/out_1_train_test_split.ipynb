{
 "cells": [
  {
   "cell_type": "code",
   "execution_count": 1,
   "id": "1f2e9be3",
   "metadata": {
    "ExecuteTime": {
     "end_time": "2023-04-18T13:19:14.924242Z",
     "start_time": "2023-04-18T13:19:14.626383Z"
    },
    "execution": {
     "iopub.execute_input": "2023-04-18T23:34:12.767558Z",
     "iopub.status.busy": "2023-04-18T23:34:12.766747Z",
     "iopub.status.idle": "2023-04-18T23:34:13.085573Z",
     "shell.execute_reply": "2023-04-18T23:34:13.084880Z"
    },
    "papermill": {
     "duration": 0.330056,
     "end_time": "2023-04-18T23:34:13.087275",
     "exception": false,
     "start_time": "2023-04-18T23:34:12.757219",
     "status": "completed"
    },
    "tags": []
   },
   "outputs": [],
   "source": [
    "import pandas as pd"
   ]
  },
  {
   "cell_type": "code",
   "execution_count": 2,
   "id": "d7fd9316",
   "metadata": {
    "ExecuteTime": {
     "end_time": "2023-04-18T13:19:14.928247Z",
     "start_time": "2023-04-18T13:19:14.925772Z"
    },
    "code_folding": [
     0
    ],
    "execution": {
     "iopub.execute_input": "2023-04-18T23:34:13.108412Z",
     "iopub.status.busy": "2023-04-18T23:34:13.108041Z",
     "iopub.status.idle": "2023-04-18T23:34:13.112827Z",
     "shell.execute_reply": "2023-04-18T23:34:13.112073Z"
    },
    "papermill": {
     "duration": 0.019645,
     "end_time": "2023-04-18T23:34:13.114346",
     "exception": false,
     "start_time": "2023-04-18T23:34:13.094701",
     "status": "completed"
    },
    "tags": []
   },
   "outputs": [],
   "source": [
    "def convert_str_to_int(x):\n",
    "    try:\n",
    "        return(int(float(x)))\n",
    "    except:\n",
    "        return(np.nan) "
   ]
  },
  {
   "cell_type": "markdown",
   "id": "63622b7e",
   "metadata": {
    "papermill": {
     "duration": 0.013752,
     "end_time": "2023-04-18T23:34:13.133710",
     "exception": false,
     "start_time": "2023-04-18T23:34:13.119958",
     "status": "completed"
    },
    "tags": []
   },
   "source": [
    "# Data"
   ]
  },
  {
   "cell_type": "code",
   "execution_count": 3,
   "id": "203b6c2d",
   "metadata": {
    "ExecuteTime": {
     "end_time": "2023-04-18T13:19:20.632812Z",
     "start_time": "2023-04-18T13:19:14.929529Z"
    },
    "execution": {
     "iopub.execute_input": "2023-04-18T23:34:13.159015Z",
     "iopub.status.busy": "2023-04-18T23:34:13.158630Z",
     "iopub.status.idle": "2023-04-18T23:34:16.465636Z",
     "shell.execute_reply": "2023-04-18T23:34:16.464462Z"
    },
    "papermill": {
     "duration": 3.321989,
     "end_time": "2023-04-18T23:34:16.467797",
     "exception": false,
     "start_time": "2023-04-18T23:34:13.145808",
     "status": "completed"
    },
    "tags": []
   },
   "outputs": [
    {
     "name": "stderr",
     "output_type": "stream",
     "text": [
      "/tmp/ipykernel_4123/2999585264.py:1: DtypeWarning: Columns (7,11,12,14,15) have mixed types. Specify dtype option on import or set low_memory=False.\n",
      "  consultamarcacao = pd.read_csv('/opt/airflow/datasets/absenteeism/ConsultaMarcacao.txt', sep='|',  # , on_bad_lines= \"skip\"\n"
     ]
    }
   ],
   "source": [
    "consultamarcacao = pd.read_csv('/opt/airflow/datasets/absenteeism/ConsultaMarcacao.txt', sep='|',  # , on_bad_lines= \"skip\"\n",
    "                               encoding=\"ISO-8859-1\")[['Nº Sequencial',\n",
    "                                                       'EspecialidadeSKey', 'EstruturaOrganicaSKey', 'Estado Marcação',\n",
    "                                                       'Data Marcação Consulta', 'Data Consulta', 'Hora Consulta',\n",
    "                                                       'Data Registo Falta', 'Data Desmarcação Consulta',\n",
    "                                                       'Motivo Desmarcação', 'Responsável Desmarcação', 'Tipo Consulta',\n",
    "                                                       'Tipo Vaga', 'Tipo Agenda', 'RefLECSKey', 'COD_SECRETARIADO',  'ProvenienciaSKey', 'UnidadeSaudeProvenienciaSKey']]\n",
    "\n",
    "consultamarcacao.columns = ['NUM_SEQUENCIAL', 'EspecialidadeSKey', 'EstruturaOrganicaSKey',\n",
    "                            'EstadoMarcação', 'DataMarcaçãoConsulta', 'DataConsulta',\n",
    "                            'HoraConsulta', 'DataRegistoFalta', 'DataDesmarcaçãoConsulta',\n",
    "                            'MotivoDesmarcação', 'ResponsávelDesmarcação', 'TipoConsulta',\n",
    "                            'TipoVaga', 'TipoAgenda', 'RefLECSKey', 'COD_SECRETARIADO',  'ProvenienciaSKey', 'UnidadeSaudeProvenienciaSKey']"
   ]
  },
  {
   "cell_type": "code",
   "execution_count": 4,
   "id": "f4f2f111",
   "metadata": {
    "ExecuteTime": {
     "end_time": "2023-04-18T13:19:20.855925Z",
     "start_time": "2023-04-18T13:19:20.634538Z"
    },
    "execution": {
     "iopub.execute_input": "2023-04-18T23:34:16.489209Z",
     "iopub.status.busy": "2023-04-18T23:34:16.488935Z",
     "iopub.status.idle": "2023-04-18T23:34:16.761329Z",
     "shell.execute_reply": "2023-04-18T23:34:16.759565Z"
    },
    "papermill": {
     "duration": 0.287938,
     "end_time": "2023-04-18T23:34:16.763938",
     "exception": false,
     "start_time": "2023-04-18T23:34:16.476000",
     "status": "completed"
    },
    "tags": []
   },
   "outputs": [],
   "source": [
    "consultamarcacao.DataConsulta = pd.to_datetime(consultamarcacao.DataConsulta)"
   ]
  },
  {
   "cell_type": "code",
   "execution_count": 5,
   "id": "6bf22efb",
   "metadata": {
    "ExecuteTime": {
     "end_time": "2023-04-18T13:19:21.731018Z",
     "start_time": "2023-04-18T13:19:20.857157Z"
    },
    "execution": {
     "iopub.execute_input": "2023-04-18T23:34:16.784849Z",
     "iopub.status.busy": "2023-04-18T23:34:16.783829Z",
     "iopub.status.idle": "2023-04-18T23:34:18.360025Z",
     "shell.execute_reply": "2023-04-18T23:34:18.357122Z"
    },
    "papermill": {
     "duration": 1.592678,
     "end_time": "2023-04-18T23:34:18.364233",
     "exception": false,
     "start_time": "2023-04-18T23:34:16.771555",
     "status": "completed"
    },
    "tags": []
   },
   "outputs": [],
   "source": [
    "consultamarcacao_train = consultamarcacao[(consultamarcacao.DataConsulta>=pd.to_datetime('01-01-2021'))&(consultamarcacao.DataConsulta<pd.to_datetime('01-01-2023')) & (consultamarcacao.MotivoDesmarcação!='ENGANO')].reset_index(drop=True)\n",
    "consultamarcacao_validation = consultamarcacao[(consultamarcacao.DataConsulta>=pd.to_datetime('01-01-2023')) & (consultamarcacao.MotivoDesmarcação!='ENGANO')].reset_index(drop=True)\n",
    "\n",
    "consultamarcacao_train.to_parquet('/opt/airflow/datasets/absenteeism/consultamarcacao_train.parquet', compression='gzip')\n",
    "consultamarcacao_validation.to_parquet('/opt/airflow/datasets/absenteeism/consultamarcacao_validation.parquet', compression='gzip')"
   ]
  },
  {
   "cell_type": "code",
   "execution_count": 6,
   "id": "f2cd9a34",
   "metadata": {
    "ExecuteTime": {
     "end_time": "2023-04-18T13:19:41.027854Z",
     "start_time": "2023-04-18T13:19:21.732380Z"
    },
    "execution": {
     "iopub.execute_input": "2023-04-18T23:34:18.390997Z",
     "iopub.status.busy": "2023-04-18T23:34:18.390155Z",
     "iopub.status.idle": "2023-04-18T23:34:30.846191Z",
     "shell.execute_reply": "2023-04-18T23:34:30.844074Z"
    },
    "papermill": {
     "duration": 12.47321,
     "end_time": "2023-04-18T23:34:30.848695",
     "exception": false,
     "start_time": "2023-04-18T23:34:18.375485",
     "status": "completed"
    },
    "tags": []
   },
   "outputs": [
    {
     "name": "stderr",
     "output_type": "stream",
     "text": [
      "/tmp/ipykernel_4123/798626591.py:1: DtypeWarning: Columns (18,22,23,28,29,33,41) have mixed types. Specify dtype option on import or set low_memory=False.\n",
      "  consulta = pd.read_csv('/opt/airflow/datasets/absenteeism/Consulta.txt', sep='|', #, on_bad_lines= \"skip\"\n"
     ]
    }
   ],
   "source": [
    "consulta = pd.read_csv('/opt/airflow/datasets/absenteeism/Consulta.txt', sep='|', #, on_bad_lines= \"skip\"\n",
    "                       encoding=\"ISO-8859-1\")[['Nº Sequencial', 'DestinoSKey', 'EspecialidadeSKey', 'ProvenienciaSKey',\n",
    "       'UnidadeSaudeDestinoSKey', 'UnidadeSaudeProvenienciaSKey','Data Marcação Consulta', 'HoraId',\n",
    "       'Data Consulta', 'Data Alta Consulta', 'Episódio Consulta',\n",
    "       'Estado Alta', 'Secretariado', 'Tipo Agenda', 'Tipo Consulta', 'Tipo Marcação',\n",
    "       'Tipo Vaga', 'Causa', 'Motivo Anulação', 'Emissão Factura', 'Ref. P1']]\n",
    "\n",
    "consulta.columns = ['NUM_SEQUENCIAL', 'DestinoSKey', 'EspecialidadeSKey', 'ProvenienciaSKey',\n",
    "       'UnidadeSaudeDestinoSKey', 'UnidadeSaudeProvenienciaSKey','DataMarcaçãoConsulta', 'HoraId',\n",
    "       'DataConsulta', 'DataAltaConsulta', 'EpisódioConsulta',\n",
    "       'EstadoAlta', 'Secretariado', 'TipoAgenda', 'TipoConsulta', 'TipoMarcação',\n",
    "       'TipoVaga', 'Causa', 'MotivoAnulação', 'EmissãoFactura', 'RefP1']"
   ]
  },
  {
   "cell_type": "code",
   "execution_count": 7,
   "id": "b764591f",
   "metadata": {
    "ExecuteTime": {
     "end_time": "2023-04-18T13:19:41.442982Z",
     "start_time": "2023-04-18T13:19:41.029108Z"
    },
    "execution": {
     "iopub.execute_input": "2023-04-18T23:34:30.878921Z",
     "iopub.status.busy": "2023-04-18T23:34:30.877121Z",
     "iopub.status.idle": "2023-04-18T23:34:31.415148Z",
     "shell.execute_reply": "2023-04-18T23:34:31.413249Z"
    },
    "papermill": {
     "duration": 0.557223,
     "end_time": "2023-04-18T23:34:31.418072",
     "exception": false,
     "start_time": "2023-04-18T23:34:30.860849",
     "status": "completed"
    },
    "tags": []
   },
   "outputs": [],
   "source": [
    "consulta.DataConsulta = pd.to_datetime(consulta.DataConsulta)"
   ]
  },
  {
   "cell_type": "code",
   "execution_count": null,
   "id": "89e7c1a1",
   "metadata": {
    "ExecuteTime": {
     "end_time": "2023-04-18T13:19:44.457390Z",
     "start_time": "2023-04-18T13:19:41.444098Z"
    },
    "papermill": {
     "duration": null,
     "end_time": null,
     "exception": false,
     "start_time": "2023-04-18T23:34:31.427641",
     "status": "running"
    },
    "tags": []
   },
   "outputs": [],
   "source": [
    "consulta_train = consulta[(consulta.DataConsulta>=pd.to_datetime('01-01-2021'))&(consulta.DataConsulta<pd.to_datetime('01-01-2023'))].reset_index(drop=True)\n",
    "consulta_validation = consulta[(consulta.DataConsulta>=pd.to_datetime('01-01-2023'))].reset_index(drop=True)\n",
    "\n",
    "consulta_train.astype('str').to_parquet('/opt/airflow/datasets/absenteeism/consulta_train.parquet', compression='gzip')\n",
    "consulta_validation.astype('str').to_parquet('/opt/airflow/datasets/absenteeism/consulta_validation.parquet', compression='gzip')"
   ]
  },
  {
   "cell_type": "code",
   "execution_count": null,
   "id": "429c5301",
   "metadata": {
    "papermill": {
     "duration": null,
     "end_time": null,
     "exception": null,
     "start_time": null,
     "status": "pending"
    },
    "tags": []
   },
   "outputs": [],
   "source": []
  },
  {
   "cell_type": "code",
   "execution_count": null,
   "id": "17ceee6d",
   "metadata": {
    "papermill": {
     "duration": null,
     "end_time": null,
     "exception": null,
     "start_time": null,
     "status": "pending"
    },
    "tags": []
   },
   "outputs": [],
   "source": []
  }
 ],
 "metadata": {
  "hide_input": false,
  "kernelspec": {
   "display_name": "Python 3 (ipykernel)",
   "language": "python",
   "name": "python3"
  },
  "language_info": {
   "codemirror_mode": {
    "name": "ipython",
    "version": 3
   },
   "file_extension": ".py",
   "mimetype": "text/x-python",
   "name": "python",
   "nbconvert_exporter": "python",
   "pygments_lexer": "ipython3",
   "version": "3.8.10"
  },
  "papermill": {
   "default_parameters": {},
   "duration": null,
   "end_time": null,
   "environment_variables": {},
   "exception": null,
   "input_path": "/opt/airflow/dags/notebooks/1_train_test_split.ipynb",
   "output_path": "/opt/airflow/dags/notebooks/out_1_train_test_split.ipynb",
   "parameters": {},
   "start_time": "2023-04-18T23:34:11.184934",
   "version": "2.4.0"
  },
  "toc": {
   "base_numbering": 1,
   "nav_menu": {},
   "number_sections": true,
   "sideBar": true,
   "skip_h1_title": false,
   "title_cell": "Table of Contents",
   "title_sidebar": "Contents",
   "toc_cell": false,
   "toc_position": {},
   "toc_section_display": true,
   "toc_window_display": false
  }
 },
 "nbformat": 4,
 "nbformat_minor": 5
}