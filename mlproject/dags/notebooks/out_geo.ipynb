{
 "cells": [
  {
   "cell_type": "code",
   "execution_count": null,
   "id": "4c83a563",
   "metadata": {
    "ExecuteTime": {
     "end_time": "2023-04-17T09:59:49.512883Z",
     "start_time": "2023-04-17T09:59:48.540557Z"
    },
    "papermill": {
     "duration": null,
     "end_time": null,
     "exception": null,
     "start_time": null,
     "status": "completed"
    },
    "scrolled": true,
    "tags": []
   },
   "outputs": [],
   "source": [
    "# !pip install geopy\n",
    "\n",
    "import pandas as pd\n",
    "import numpy as np\n",
    "import matplotlib.pyplot as plt\n",
    "from datetime import datetime\n",
    "import ast\n",
    "\n",
    "from geopy.geocoders import Nominatim\n",
    "from geopy.distance import geodesic\n",
    "\n",
    "pd.set_option('display.max_columns', 200)\n",
    "pd.set_option('display.max_rows', 200)"
   ]
  },
  {
   "cell_type": "code",
   "execution_count": null,
   "id": "e23c5cf7",
   "metadata": {
    "ExecuteTime": {
     "end_time": "2023-04-17T09:59:49.516829Z",
     "start_time": "2023-04-17T09:59:49.514384Z"
    },
    "code_folding": [],
    "papermill": {
     "duration": null,
     "end_time": null,
     "exception": null,
     "start_time": null,
     "status": "completed"
    },
    "scrolled": true,
    "tags": []
   },
   "outputs": [],
   "source": [
    "def convert_str_to_int(x):\n",
    "    try:\n",
    "        return(int(float(x)))\n",
    "    except:\n",
    "        return(np.nan)"
   ]
  },
  {
   "cell_type": "code",
   "execution_count": null,
   "id": "cbd26aab",
   "metadata": {
    "ExecuteTime": {
     "end_time": "2023-04-17T09:59:49.529491Z",
     "start_time": "2023-04-17T09:59:49.518086Z"
    },
    "code_folding": [],
    "papermill": {
     "duration": null,
     "end_time": null,
     "exception": null,
     "start_time": null,
     "status": "completed"
    },
    "scrolled": true,
    "tags": []
   },
   "outputs": [],
   "source": [
    "def get_coord(x):\n",
    "    try:\n",
    "        return(x[1])\n",
    "    except:\n",
    "        return(None)"
   ]
  },
  {
   "cell_type": "code",
   "execution_count": null,
   "id": "f368234c",
   "metadata": {
    "ExecuteTime": {
     "end_time": "2023-04-17T09:59:49.535657Z",
     "start_time": "2023-04-17T09:59:49.531091Z"
    },
    "code_folding": [],
    "papermill": {
     "duration": null,
     "end_time": null,
     "exception": null,
     "start_time": null,
     "status": "completed"
    },
    "scrolled": true,
    "tags": []
   },
   "outputs": [],
   "source": [
    "def distance(row): \n",
    "    address1 = (row['utente_lat'], row['utente_lon']) \n",
    "    address2 = (row['hospital_lat'], row['hospital_lon']) \n",
    "    try:\n",
    "        return (geodesic(address1, address2).kilometers) \n",
    "    except: \n",
    "        return np.nan"
   ]
  },
  {
   "cell_type": "code",
   "execution_count": null,
   "id": "4b90a025",
   "metadata": {
    "ExecuteTime": {
     "end_time": "2023-04-17T09:59:49.578730Z",
     "start_time": "2023-04-17T09:59:49.536866Z"
    },
    "papermill": {
     "duration": null,
     "end_time": null,
     "exception": null,
     "start_time": null,
     "status": "completed"
    },
    "scrolled": true,
    "tags": []
   },
   "outputs": [],
   "source": [
    "geografia = pd.read_csv('/opt/airflow/datasets/absenteeism/Geografia.txt', sep='|', encoding=\"ISO-8859-1\")"
   ]
  },
  {
   "cell_type": "code",
   "execution_count": null,
   "id": "1dc12271",
   "metadata": {
    "ExecuteTime": {
     "end_time": "2023-04-17T09:59:49.583654Z",
     "start_time": "2023-04-17T09:59:49.580795Z"
    },
    "papermill": {
     "duration": null,
     "end_time": null,
     "exception": null,
     "start_time": null,
     "status": "completed"
    },
    "scrolled": true,
    "tags": []
   },
   "outputs": [],
   "source": [
    "#! pip install geopy\n",
    "from geopy.geocoders import Nominatim\n",
    "from geopy.distance import geodesic"
   ]
  },
  {
   "cell_type": "code",
   "execution_count": null,
   "id": "b4a32cd4",
   "metadata": {
    "ExecuteTime": {
     "start_time": "2023-04-17T09:59:48.533Z"
    },
    "papermill": {
     "duration": null,
     "end_time": null,
     "exception": null,
     "start_time": null,
     "status": "completed"
    },
    "scrolled": true,
    "tags": []
   },
   "outputs": [],
   "source": [
    "##remover do nome  coisas do tipo usf e assim e deixar só o nome da cidade\n",
    "geolocator = Nominatim(user_agent=\"my-application2\")\n",
    "geo_output =  geografia['Freguesia Geo'].apply(geolocator.geocode)"
   ]
  },
  {
   "cell_type": "code",
   "execution_count": null,
   "id": "863df09f",
   "metadata": {
    "ExecuteTime": {
     "start_time": "2023-04-17T09:59:48.535Z"
    },
    "code_folding": [
     0
    ],
    "papermill": {
     "duration": null,
     "end_time": null,
     "exception": null,
     "start_time": null,
     "status": "completed"
    },
    "scrolled": true,
    "tags": []
   },
   "outputs": [],
   "source": [
    "def get_coord(x):\n",
    "    try:\n",
    "        return(x[1])\n",
    "    except:\n",
    "        return(None)"
   ]
  },
  {
   "cell_type": "code",
   "execution_count": null,
   "id": "c9d85201",
   "metadata": {
    "ExecuteTime": {
     "start_time": "2023-04-17T09:59:48.536Z"
    },
    "papermill": {
     "duration": null,
     "end_time": null,
     "exception": null,
     "start_time": null,
     "status": "completed"
    },
    "scrolled": true,
    "tags": []
   },
   "outputs": [],
   "source": [
    "geografia['lat'] = pd.DataFrame({'coord':geo_output.tolist()}).coord.apply(lambda x: x[1][0] if get_coord(x)!=None else None)\n",
    "geografia['lon'] = pd.DataFrame({'coord':geo_output.tolist()}).coord.apply(lambda x: x[1][1] if get_coord(x)!=None else None)\n",
    "geografia.astype('str').to_parquet('/opt/airflow/datasets/absenteeism/geografia_coord.parquet', compression='gzip')"
   ]
  },
  {
   "cell_type": "code",
   "execution_count": null,
   "id": "f533f743",
   "metadata": {
    "ExecuteTime": {
     "start_time": "2023-04-17T09:59:48.536Z"
    },
    "papermill": {
     "duration": null,
     "end_time": null,
     "exception": null,
     "start_time": null,
     "status": "completed"
    },
    "tags": []
   },
   "outputs": [],
   "source": [
    "geografia.head()"
   ]
  }
 ],
 "metadata": {
  "hide_input": false,
  "kernelspec": {
   "display_name": "Python 3 (ipykernel)",
   "language": "python",
   "name": "python3"
  },
  "language_info": {
   "codemirror_mode": {
    "name": "ipython",
    "version": 3
   },
   "file_extension": ".py",
   "mimetype": "text/x-python",
   "name": "python",
   "nbconvert_exporter": "python",
   "pygments_lexer": "ipython3",
   "version": "3.8.10"
  },
  "papermill": {
   "default_parameters": {},
   "duration": 0.44793,
   "end_time": "2023-04-18T23:19:27.399978",
   "environment_variables": {},
   "exception": null,
   "input_path": "/opt/airflow/dags/notebooks/geo.ipynb",
   "output_path": "/opt/airflow/dags/notebooks/out_geo.ipynb",
   "parameters": {},
   "start_time": "2023-04-18T23:19:26.952048",
   "version": "2.4.0"
  },
  "toc": {
   "base_numbering": 1,
   "nav_menu": {},
   "number_sections": true,
   "sideBar": true,
   "skip_h1_title": false,
   "title_cell": "Table of Contents",
   "title_sidebar": "Contents",
   "toc_cell": false,
   "toc_position": {},
   "toc_section_display": true,
   "toc_window_display": false
  }
 },
 "nbformat": 4,
 "nbformat_minor": 5
}