{
 "cells": [
  {
   "cell_type": "code",
   "execution_count": null,
   "id": "0821a0a3",
   "metadata": {
    "ExecuteTime": {
     "end_time": "2023-04-18T10:02:05.210949Z",
     "start_time": "2023-04-18T10:02:04.250721Z"
    },
    "papermill": {
     "duration": null,
     "end_time": null,
     "exception": null,
     "start_time": null,
     "status": "completed"
    },
    "tags": []
   },
   "outputs": [],
   "source": [
    "import pandas as pd\n",
    "import numpy as np\n",
    "import matplotlib.pyplot as plt\n",
    "\n",
    "from geopy.geocoders import Nominatim\n",
    "from geopy.distance import geodesic"
   ]
  },
  {
   "cell_type": "code",
   "execution_count": null,
   "id": "a180c688",
   "metadata": {
    "ExecuteTime": {
     "end_time": "2023-04-18T10:02:05.215371Z",
     "start_time": "2023-04-18T10:02:05.212221Z"
    },
    "code_folding": [],
    "papermill": {
     "duration": null,
     "end_time": null,
     "exception": null,
     "start_time": null,
     "status": "completed"
    },
    "tags": []
   },
   "outputs": [],
   "source": [
    "def distance(row): \n",
    "    address1 = (row['utente_lat'], row['utente_lon']) \n",
    "    address2 = (row['hospital_lat'], row['hospital_lon']) \n",
    "    try:\n",
    "        return (geodesic(address1, address2).kilometers) \n",
    "    except: \n",
    "        return np.nan"
   ]
  },
  {
   "cell_type": "code",
   "execution_count": null,
   "id": "89a67e74",
   "metadata": {
    "papermill": {
     "duration": null,
     "end_time": null,
     "exception": null,
     "start_time": null,
     "status": "completed"
    },
    "tags": []
   },
   "outputs": [],
   "source": []
  },
  {
   "cell_type": "markdown",
   "id": "0fcd6483",
   "metadata": {
    "papermill": {
     "duration": null,
     "end_time": null,
     "exception": null,
     "start_time": null,
     "status": "completed"
    },
    "tags": []
   },
   "source": [
    "## Other"
   ]
  },
  {
   "cell_type": "code",
   "execution_count": null,
   "id": "a9a32ed5",
   "metadata": {
    "ExecuteTime": {
     "end_time": "2023-04-18T10:02:07.415751Z",
     "start_time": "2023-04-18T10:02:05.216854Z"
    },
    "papermill": {
     "duration": null,
     "end_time": null,
     "exception": null,
     "start_time": null,
     "status": "completed"
    },
    "tags": []
   },
   "outputs": [],
   "source": [
    "utente = pd.read_csv('/opt/airflow/datasets/absenteeism/Utentes.txt', sep='|', encoding=\"ISO-8859-1\", on_bad_lines= \"skip\")\n",
    "utente.columns = ['UtenteSkey', 'GeografiaSKey', 'NUM_SEQUENCIAL', 'DataNascimento', 'Sexo', 'Nacionalidade', 'CódigoUnidadeSaude', 'UnidadeSaude']"
   ]
  },
  {
   "cell_type": "code",
   "execution_count": null,
   "id": "46124628",
   "metadata": {
    "ExecuteTime": {
     "end_time": "2023-04-18T10:02:08.670594Z",
     "start_time": "2023-04-18T10:02:07.417072Z"
    },
    "papermill": {
     "duration": null,
     "end_time": null,
     "exception": null,
     "start_time": null,
     "status": "completed"
    },
    "tags": []
   },
   "outputs": [],
   "source": [
    "geografia = pd.read_parquet('/opt/airflow/datasets/absenteeism/geografia_coord.parquet')\n",
    "\n",
    "to_fill_na = geografia[geografia.lat!='nan'][['Concelho', 'lat','lon']].drop_duplicates(subset='Concelho', keep='first')\n",
    "\n",
    "geografia = geografia.merge(to_fill_na, on='Concelho', how='left')\n",
    "geografia.loc[:,'lat_x'] = np.where(geografia.lat_x=='nan', geografia.lat_y, geografia.lat_x)\n",
    "geografia.loc[:,'lon_x'] = np.where(geografia.lon_x=='nan', geografia.lat_y, geografia.lon_x)\n",
    "\n",
    "geografia = geografia.drop(columns=['lat_y','lon_y'])\n",
    "geografia.columns = ['GeografiaSKey', 'CodDistrito', 'Distirito', 'CodConcelho', 'Concelho',\n",
    "       'CodFreguesia', 'Freguesia', 'Freguesia Geo', 'Concelho Geo',\n",
    "       'Distrito Geo', 'lat', 'lon']\n",
    "\n",
    "del to_fill_na\n",
    "\n",
    "geografia.columns = ['GeografiaSKey', 'CodDistrito', 'Distirito', 'CodConcelho', 'Concelho',\n",
    "       'CodFreguesia', 'Freguesia', 'Freguesia Geo', 'Concelho Geo',\n",
    "       'Distrito Geo', 'utente_lat', 'utente_lon']\n",
    "\n",
    "geografia[['GeografiaSKey','utente_lat', 'utente_lon']] = geografia[['GeografiaSKey','utente_lat', 'utente_lon']].astype('float')    \n",
    "geografia[['hospital_lat','hospital_lon']]=[41.1123,  -8.6001]\n",
    "geografia[\"dist_btw\"] = geografia.apply(lambda row: distance(row), axis = 1 )"
   ]
  },
  {
   "cell_type": "code",
   "execution_count": null,
   "id": "23690781",
   "metadata": {
    "ExecuteTime": {
     "end_time": "2023-04-18T10:02:08.683639Z",
     "start_time": "2023-04-18T10:02:08.671896Z"
    },
    "papermill": {
     "duration": null,
     "end_time": null,
     "exception": null,
     "start_time": null,
     "status": "completed"
    },
    "tags": []
   },
   "outputs": [],
   "source": [
    "geografia = geografia.merge(geografia[geografia.Concelho!='nan'].groupby('Concelho', as_index=False).agg(dist_btw_c=('dist_btw','median')), on='Concelho', how='inner')\n",
    "geografia['dist_btw'] = np.where((geografia.dist_btw_c*1.5<geografia.dist_btw) & (geografia.dist_btw>500), geografia.dist_btw_c, geografia.dist_btw)"
   ]
  },
  {
   "cell_type": "code",
   "execution_count": null,
   "id": "d9c314b0",
   "metadata": {
    "ExecuteTime": {
     "end_time": "2023-04-18T10:02:08.697396Z",
     "start_time": "2023-04-18T10:02:08.685107Z"
    },
    "papermill": {
     "duration": null,
     "end_time": null,
     "exception": null,
     "start_time": null,
     "status": "completed"
    },
    "tags": []
   },
   "outputs": [],
   "source": [
    "geografia = geografia.drop(columns=['dist_btw_c']).merge(geografia[geografia.Concelho!='nan'].groupby('Distirito', as_index=False).agg(dist_btw_c=('dist_btw','median')), on='Distirito', how='inner')\n",
    "geografia['dist_btw'] = np.where((geografia.dist_btw_c*1.5<geografia.dist_btw) & (geografia.dist_btw>500), geografia.dist_btw_c, geografia.dist_btw)"
   ]
  },
  {
   "cell_type": "code",
   "execution_count": null,
   "id": "a551e179",
   "metadata": {
    "ExecuteTime": {
     "end_time": "2023-04-18T10:02:08.704615Z",
     "start_time": "2023-04-18T10:02:08.698667Z"
    },
    "papermill": {
     "duration": null,
     "end_time": null,
     "exception": null,
     "start_time": null,
     "status": "completed"
    },
    "tags": []
   },
   "outputs": [],
   "source": [
    "geografia[geografia.dist_btw>500].Distirito.unique()"
   ]
  },
  {
   "cell_type": "code",
   "execution_count": null,
   "id": "c3658c6e",
   "metadata": {
    "ExecuteTime": {
     "end_time": "2023-04-18T10:02:09.319511Z",
     "start_time": "2023-04-18T10:02:08.705752Z"
    },
    "papermill": {
     "duration": null,
     "end_time": null,
     "exception": null,
     "start_time": null,
     "status": "completed"
    },
    "tags": []
   },
   "outputs": [],
   "source": [
    "utente = utente.merge(geografia[['GeografiaSKey', 'Distirito','Concelho', 'utente_lat', 'utente_lon', 'hospital_lat', 'hospital_lon', 'dist_btw']], \n",
    "                      on='GeografiaSKey', how='inner')[['NUM_SEQUENCIAL', 'DataNascimento',\n",
    "       'Sexo', 'Nacionalidade', 'Distirito', 'Concelho',  'utente_lat', 'utente_lon', 'hospital_lat',\n",
    "       'hospital_lon', 'dist_btw']]\n",
    "del geografia"
   ]
  },
  {
   "cell_type": "markdown",
   "id": "6b54d3ec",
   "metadata": {
    "papermill": {
     "duration": null,
     "end_time": null,
     "exception": null,
     "start_time": null,
     "status": "completed"
    },
    "tags": []
   },
   "source": [
    "#  caracterização utente"
   ]
  },
  {
   "cell_type": "code",
   "execution_count": null,
   "id": "8caaaf1f",
   "metadata": {
    "ExecuteTime": {
     "end_time": "2023-04-18T10:02:09.323795Z",
     "start_time": "2023-04-18T10:02:09.321524Z"
    },
    "papermill": {
     "duration": null,
     "end_time": null,
     "exception": null,
     "start_time": null,
     "status": "completed"
    },
    "tags": []
   },
   "outputs": [],
   "source": [
    "from datetime import datetime"
   ]
  },
  {
   "cell_type": "code",
   "execution_count": null,
   "id": "9a1ca224",
   "metadata": {
    "ExecuteTime": {
     "end_time": "2023-04-18T10:02:09.925451Z",
     "start_time": "2023-04-18T10:02:09.324868Z"
    },
    "papermill": {
     "duration": null,
     "end_time": null,
     "exception": null,
     "start_time": null,
     "status": "completed"
    },
    "tags": []
   },
   "outputs": [],
   "source": [
    "# validar que Sexo é só feminino e masculino caso contrário isto não se pode fazer assim ...\n",
    "utente['Sexo']=np.where(utente.Sexo=='Masculino', 1, np.where(utente.Sexo=='Feminino', 0, 2))\n",
    "\n",
    "utente['Idade'] = np.round((pd.to_datetime(datetime.now())-pd.to_datetime(utente.DataNascimento)).dt.days/365, 0)\n",
    "utente = utente.drop(columns=['DataNascimento'])"
   ]
  },
  {
   "cell_type": "code",
   "execution_count": null,
   "id": "516967bd",
   "metadata": {
    "ExecuteTime": {
     "end_time": "2023-04-18T10:02:09.950685Z",
     "start_time": "2023-04-18T10:02:09.926758Z"
    },
    "papermill": {
     "duration": null,
     "end_time": null,
     "exception": null,
     "start_time": null,
     "status": "completed"
    },
    "tags": []
   },
   "outputs": [],
   "source": [
    "utente = utente.drop(columns=['Distirito', 'Concelho', 'hospital_lat', 'hospital_lon']) #, 'utente_lat', 'utente_lon'])"
   ]
  },
  {
   "cell_type": "code",
   "execution_count": null,
   "id": "fe06c32c",
   "metadata": {
    "ExecuteTime": {
     "end_time": "2023-04-18T10:02:10.043865Z",
     "start_time": "2023-04-18T10:02:09.951966Z"
    },
    "papermill": {
     "duration": null,
     "end_time": null,
     "exception": null,
     "start_time": null,
     "status": "completed"
    },
    "tags": []
   },
   "outputs": [],
   "source": [
    "a = utente.groupby('Nacionalidade', as_index=False).agg( volume=('NUM_SEQUENCIAL', 'count')) \n",
    "a['volume']=a['volume']/a['volume'].sum()\n",
    "nacionalidade_to_consider=a[a.volume>=(1/a.shape[0])].Nacionalidade.tolist()"
   ]
  },
  {
   "cell_type": "code",
   "execution_count": null,
   "id": "01ab3065",
   "metadata": {
    "ExecuteTime": {
     "end_time": "2023-04-18T10:02:10.093225Z",
     "start_time": "2023-04-18T10:02:10.045083Z"
    },
    "papermill": {
     "duration": null,
     "end_time": null,
     "exception": null,
     "start_time": null,
     "status": "completed"
    },
    "tags": []
   },
   "outputs": [],
   "source": [
    "utente['Nacionalidade']=np.where(utente.Nacionalidade.isin(nacionalidade_to_consider), utente.Nacionalidade, 'Nacionalidade_outras')"
   ]
  },
  {
   "cell_type": "code",
   "execution_count": null,
   "id": "8dcc3a53",
   "metadata": {
    "ExecuteTime": {
     "end_time": "2023-04-18T10:02:10.192039Z",
     "start_time": "2023-04-18T10:02:10.094519Z"
    },
    "code_folding": [
     1
    ],
    "papermill": {
     "duration": null,
     "end_time": null,
     "exception": null,
     "start_time": null,
     "status": "completed"
    },
    "tags": []
   },
   "outputs": [],
   "source": [
    "# based on https://www.indexmundi.com/portugal/age_structure.html\n",
    "conditions = [\n",
    "    (utente['Idade'] >= 65),\n",
    "    (utente['Idade'] >= 55) & (utente['Idade'] < 65),\n",
    "    (utente['Idade'] >= 25) & (utente['Idade'] < 55),\n",
    "    (utente['Idade'] >= 15) & (utente['Idade'] < 25),\n",
    "    (utente['Idade'] <  15) | (utente['Idade'].isna())\n",
    "    ]\n",
    "faixas = [\">=65\", \"55-64\", \"25-54\", \"15-24\", \"0-14\"]\n",
    "utente[\"FaixaEtaria\"] = np.select(conditions, faixas)"
   ]
  },
  {
   "cell_type": "code",
   "execution_count": null,
   "id": "93dc87c4",
   "metadata": {
    "ExecuteTime": {
     "end_time": "2023-04-18T10:02:11.923737Z",
     "start_time": "2023-04-18T10:02:10.193302Z"
    },
    "papermill": {
     "duration": null,
     "end_time": null,
     "exception": null,
     "start_time": null,
     "status": "completed"
    },
    "tags": []
   },
   "outputs": [],
   "source": [
    "utente.loc[:, ~utente.columns.isin(['utente_lat', 'utente_lon'])].to_parquet('/opt/airflow/datasets/absenteeism/modelacao_1_train_utente_basic.parquet', compression='gzip')"
   ]
  },
  {
   "cell_type": "code",
   "execution_count": null,
   "id": "4e4deda2",
   "metadata": {
    "ExecuteTime": {
     "end_time": "2023-04-18T10:02:11.953215Z",
     "start_time": "2023-04-18T10:02:11.925034Z"
    },
    "papermill": {
     "duration": null,
     "end_time": null,
     "exception": null,
     "start_time": null,
     "status": "completed"
    },
    "tags": []
   },
   "outputs": [],
   "source": [
    "utente.loc[:, ~utente.columns.isin(['utente_lat', 'utente_lon'])].head()"
   ]
  },
  {
   "cell_type": "code",
   "execution_count": null,
   "id": "31a3490f",
   "metadata": {
    "ExecuteTime": {
     "end_time": "2023-04-18T10:02:13.632152Z",
     "start_time": "2023-04-18T10:02:11.954408Z"
    },
    "papermill": {
     "duration": null,
     "end_time": null,
     "exception": null,
     "start_time": null,
     "status": "completed"
    },
    "tags": []
   },
   "outputs": [],
   "source": [
    "utente.to_parquet('/opt/airflow/datasets/absenteeism/modelacao_1_train_utente_basic_coord.parquet', compression='gzip')"
   ]
  },
  {
   "cell_type": "code",
   "execution_count": null,
   "id": "9c6734c5",
   "metadata": {
    "ExecuteTime": {
     "end_time": "2023-04-18T10:02:13.641512Z",
     "start_time": "2023-04-18T10:02:13.633654Z"
    },
    "papermill": {
     "duration": null,
     "end_time": null,
     "exception": null,
     "start_time": null,
     "status": "completed"
    },
    "tags": []
   },
   "outputs": [],
   "source": [
    "utente.head()"
   ]
  },
  {
   "cell_type": "code",
   "execution_count": null,
   "id": "27f965f8",
   "metadata": {
    "papermill": {
     "duration": null,
     "end_time": null,
     "exception": null,
     "start_time": null,
     "status": "completed"
    },
    "tags": []
   },
   "outputs": [],
   "source": []
  },
  {
   "cell_type": "code",
   "execution_count": null,
   "id": "20a198f6",
   "metadata": {
    "papermill": {
     "duration": null,
     "end_time": null,
     "exception": null,
     "start_time": null,
     "status": "completed"
    },
    "tags": []
   },
   "outputs": [],
   "source": []
  }
 ],
 "metadata": {
  "hide_input": false,
  "kernelspec": {
   "display_name": "Python 3 (ipykernel)",
   "language": "python",
   "name": "python3"
  },
  "language_info": {
   "codemirror_mode": {
    "name": "ipython",
    "version": 3
   },
   "file_extension": ".py",
   "mimetype": "text/x-python",
   "name": "python",
   "nbconvert_exporter": "python",
   "pygments_lexer": "ipython3",
   "version": "3.8.10"
  },
  "papermill": {
   "default_parameters": {},
   "duration": 0.318134,
   "end_time": "2023-04-18T23:32:39.822851",
   "environment_variables": {},
   "exception": null,
   "input_path": "/opt/airflow/dags/notebooks/utente.ipynb",
   "output_path": "/opt/airflow/dags/notebooks/out_utente.ipynb",
   "parameters": {},
   "start_time": "2023-04-18T23:32:39.504717",
   "version": "2.4.0"
  },
  "toc": {
   "base_numbering": 1,
   "nav_menu": {},
   "number_sections": true,
   "sideBar": true,
   "skip_h1_title": false,
   "title_cell": "Table of Contents",
   "title_sidebar": "Contents",
   "toc_cell": false,
   "toc_position": {},
   "toc_section_display": true,
   "toc_window_display": false
  }
 },
 "nbformat": 4,
 "nbformat_minor": 5
}